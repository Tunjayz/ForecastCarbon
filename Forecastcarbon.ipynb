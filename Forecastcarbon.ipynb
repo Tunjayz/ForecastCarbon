{
  "nbformat": 4,
  "nbformat_minor": 0,
  "metadata": {
    "colab": {
      "provenance": []
    },
    "kernelspec": {
      "name": "python3",
      "display_name": "Python 3"
    },
    "language_info": {
      "name": "python"
    }
  },
  "cells": [
    {
      "cell_type": "code",
      "execution_count": 44,
      "metadata": {
        "id": "AqSK9rttlEXr"
      },
      "outputs": [],
      "source": [
        "# import pandas as pd\n",
        "# import numpy as np\n",
        "# import geopandas as gpd\n",
        "# import seaborn as sns\n",
        "# import matplotlib.pyplot as plt"
      ]
    },
    {
      "cell_type": "code",
      "source": [
        "# def wrangleGDP(filepath):\n",
        "#   # Read file\n",
        "#   df = pd.read_csv(filepath, sep=';')\n",
        "\n",
        "#   # Clean and update cols\n",
        "#   for col in df[df.columns[3:]].columns:\n",
        "#     df[col] = df[col].str.replace(',', '.').astype('float')\n",
        "\n",
        "#   # Drop rows with missing values\n",
        "#   df = df.dropna()\n",
        "\n",
        "#   # Drop cols with low cardinality\n",
        "#   df.drop(columns=['Substance'], inplace=True)\n",
        "\n",
        "#   # Rename cols\n",
        "#   df.rename(columns={'EDGAR Country Code':'WB_A3'}, inplace=True)\n",
        "\n",
        "#   return df"
      ],
      "metadata": {
        "id": "8I78mcDOnZ2a"
      },
      "execution_count": 45,
      "outputs": []
    },
    {
      "cell_type": "code",
      "source": [
        "# GDPdf = wrangleGDP('/content/fossil_CO2_per_GDP_by_country.csv')\n",
        "# GDPdf.head()"
      ],
      "metadata": {
        "id": "G2tNsIIiVnCV"
      },
      "execution_count": 46,
      "outputs": []
    },
    {
      "cell_type": "code",
      "source": [
        "# def wrangleN(filepath):\n",
        "#   # Read shapefile\n",
        "#   gdf = gpd.read_file(filepath)\n",
        "\n",
        "#   # Drop cols\n",
        "#   cols = ['featurecla', 'LEVEL', 'FORMAL_FR',\n",
        "#         'POP_YEAR', 'LASTCENSUS', 'GDP_YEAR',\n",
        "#         'FIPS_10_', 'ISO_A2', 'ISO_A3', 'ISO_A3_EH',\n",
        "#         'ISO_N3', 'UN_A3', 'WB_A2', 'WB_RULES',\n",
        "#         'WB_REGION', 'REGION_UN', 'REGION_WB', 'FORMAL_EN']\n",
        "#   cols.extend(gdf.columns[26:-6])\n",
        "#   gdf.drop(columns=cols, inplace=True)\n",
        "\n",
        "#   # Return gdf\n",
        "#   return gdf"
      ],
      "metadata": {
        "id": "FV_7DU1z1v90"
      },
      "execution_count": 47,
      "outputs": []
    },
    {
      "cell_type": "code",
      "source": [
        "# gdf = wrangleN('/content/WB_countries_Admin0_10m.shp')\n",
        "# #gdf.info()"
      ],
      "metadata": {
        "id": "nbizC52MUsyZ"
      },
      "execution_count": 48,
      "outputs": []
    },
    {
      "cell_type": "code",
      "source": [
        "# # Merge the DataFrames based on the \"WB_A3\" column\n",
        "# merged_df = pd.merge(GDPdf, gdf[['WB_A3', 'CONTINENT', 'geometry']], on='WB_A3', how='left')\n",
        "\n",
        "# merged_gdf = gpd.GeoDataFrame(merged_df, geometry='geometry')\n",
        "# #merged_gdf.info()"
      ],
      "metadata": {
        "id": "8ywqxl7e429V"
      },
      "execution_count": 49,
      "outputs": []
    },
    {
      "cell_type": "code",
      "source": [
        "# # Create a new DataFrame for rows with \"GLOBAL TOTAL\" in the 'Country' column\n",
        "# global_total_df = merged_gdf[merged_gdf['Country'] == 'GLOBAL TOTAL'].copy()\n",
        "\n",
        "# # Remove rows with \"GLOBAL TOTAL\" from the original DataFrame\n",
        "# merged_gdf = merged_gdf[merged_gdf['Country'] != 'GLOBAL TOTAL']"
      ],
      "metadata": {
        "id": "GLaDjdGmWCuF"
      },
      "execution_count": 50,
      "outputs": []
    },
    {
      "cell_type": "code",
      "source": [
        "# # Create a new DataFrame for rows with \"GLOBAL TOTAL\" in the 'Country' column\n",
        "# EU27_df = merged_gdf[merged_gdf['Country'] == 'EU27'].copy()\n",
        "\n",
        "# # Remove rows with \"GLOBAL TOTAL\" from the original DataFrame\n",
        "# merged_gdf = merged_gdf[merged_gdf['Country'] != 'EU27']"
      ],
      "metadata": {
        "id": "bQC41lmxWJzT"
      },
      "execution_count": 51,
      "outputs": []
    },
    {
      "cell_type": "code",
      "source": [
        "# merged_gdf[merged_gdf['CONTINENT'].isnull()]"
      ],
      "metadata": {
        "id": "wnEyvsOUWaFO"
      },
      "execution_count": 52,
      "outputs": []
    },
    {
      "cell_type": "code",
      "source": [
        "# # Mapping of countries to continents\n",
        "# country_to_continent = {\n",
        "#     'Curaçao': 'North America',\n",
        "#     'Democratic Republic of the Congo': 'Africa',\n",
        "#     'Romania': 'Europe',\n",
        "#     'Serbia and Montenegro': 'Europe',\n",
        "#     'Timor-Leste': 'Asia',\n",
        "#     'Taiwan': 'Asia'\n",
        "# }\n",
        "\n",
        "# # Fill missing continent values based on the mapping\n",
        "# merged_gdf['CONTINENT'] = merged_gdf['CONTINENT'].fillna(merged_gdf['Country'].map(country_to_continent))"
      ],
      "metadata": {
        "id": "X4zI2qsWWsfQ"
      },
      "execution_count": 53,
      "outputs": []
    },
    {
      "cell_type": "code",
      "source": [
        "#merged_gdf.info()"
      ],
      "metadata": {
        "id": "t2QOBTfGWSG8"
      },
      "execution_count": 54,
      "outputs": []
    },
    {
      "cell_type": "code",
      "source": [
        "# # Set the style of seaborn\n",
        "# sns.set(style=\"darkgrid\")\n",
        "\n",
        "# # Select the relevant columns for plotting\n",
        "# columns_to_plot = ['1990', '1991', '1992', '1993', '1994', '1995', '1996', '1997', '1998', '1999',\n",
        "#                    '2000', '2001', '2002', '2003', '2004', '2005', '2006', '2007', '2008', '2009',\n",
        "#                    '2010', '2011', '2012', '2013', '2014', '2015', '2016', '2017', '2018', '2019',\n",
        "#                    '2020', '2021', '2022']\n",
        "\n",
        "# # Extract the data for each category\n",
        "# continents_data = merged_gdf.groupby('CONTINENT')[columns_to_plot].sum()\n",
        "# global_total_data = global_total_df[columns_to_plot].sum()\n",
        "# eu27_data = EU27_df[columns_to_plot].sum()\n",
        "\n",
        "# # Plotting\n",
        "# fig, ax = plt.subplots(figsize=(15, 8))\n",
        "# continents_data.transpose().plot(ax=ax, linewidth=2)\n",
        "# #global_total_data.plot(ax=ax, label='Global Total', linewidth=2, linestyle='dashed')\n",
        "# #eu27_data.plot(ax=ax, label='EU27', linewidth=2, linestyle='dashed')\n",
        "\n",
        "# # Set labels and title\n",
        "# plt.xlabel('Year')\n",
        "# plt.ylabel('Total Emissions (t CO2/kUSD/yr)')\n",
        "# plt.title('Emissions across Continents (t CO2/kUSD/yr)')\n",
        "# plt.legend()\n",
        "# plt.grid(True)\n",
        "# plt.tight_layout()\n",
        "# plt.savefig('EmPerGDP')\n",
        "\n",
        "# # Show the plot\n",
        "# plt.show()"
      ],
      "metadata": {
        "id": "IlnxaKr6Y_PC"
      },
      "execution_count": 55,
      "outputs": []
    },
    {
      "cell_type": "markdown",
      "source": [
        "Carbon Emissions per Sector"
      ],
      "metadata": {
        "id": "5_tMTDdxioU5"
      }
    },
    {
      "cell_type": "code",
      "source": [
        "# def wrangleSEC(filepath):\n",
        "#   # Read file\n",
        "#   df = pd.read_csv(filepath, sep=';')\n",
        "\n",
        "#   # Clean and update cols\n",
        "#   for col in df[df.columns[4:]].columns:\n",
        "#     df[col] = df[col].str.replace(',', '.').astype('float')\n",
        "\n",
        "#   # Drop rows with missing values in 'Country'\n",
        "#   df = df.dropna(subset=['Country'])\n",
        "\n",
        "#   # Drop cols with low cardinality\n",
        "#   df.drop(columns=['Substance'], inplace=True)\n",
        "\n",
        "#   # Rename cols\n",
        "#   df.rename(columns={'EDGAR Country Code':'WB_A3'}, inplace=True)\n",
        "\n",
        "#   return df"
      ],
      "metadata": {
        "id": "yHYF-atxBIyX"
      },
      "execution_count": 56,
      "outputs": []
    },
    {
      "cell_type": "code",
      "source": [
        "# Secdf = wrangleSEC('/content/fossil_CO2_by_sector_country_su.csv')\n",
        "# #Secdf.head()"
      ],
      "metadata": {
        "id": "Te9-n2tdi8sP"
      },
      "execution_count": 57,
      "outputs": []
    },
    {
      "cell_type": "code",
      "source": [
        "# Subset for null values\n",
        "#Secdf[Secdf.isnull().any(axis=1)]"
      ],
      "metadata": {
        "id": "BvygurFRjDEg"
      },
      "execution_count": 58,
      "outputs": []
    },
    {
      "cell_type": "code",
      "source": [
        "#Secdf.info()"
      ],
      "metadata": {
        "id": "-2FC_gaQjMhq"
      },
      "execution_count": 59,
      "outputs": []
    },
    {
      "cell_type": "code",
      "source": [
        "# def wrangleN(filepath):\n",
        "#   # Read shapefile\n",
        "#   gdf = gpd.read_file(filepath)\n",
        "\n",
        "#   # Drop cols\n",
        "#   cols = ['featurecla', 'LEVEL', 'FORMAL_FR',\n",
        "#         'POP_YEAR', 'LASTCENSUS', 'GDP_YEAR',\n",
        "#         'FIPS_10_', 'ISO_A2', 'ISO_A3', 'ISO_A3_EH',\n",
        "#         'ISO_N3', 'UN_A3', 'WB_A2', 'WB_RULES',\n",
        "#         'WB_REGION', 'REGION_UN', 'REGION_WB', 'FORMAL_EN']\n",
        "#   cols.extend(gdf.columns[26:-6])\n",
        "#   gdf.drop(columns=cols, inplace=True)\n",
        "\n",
        "#   # Return gdf\n",
        "#   return gdf"
      ],
      "metadata": {
        "id": "cmstWxNljNaG"
      },
      "execution_count": 60,
      "outputs": []
    },
    {
      "cell_type": "code",
      "source": [
        "# gdf = wrangleN('/content/WB_countries_Admin0_10m.shp')\n",
        "# #gdf.info()"
      ],
      "metadata": {
        "id": "M5ZA6nH4jRSr"
      },
      "execution_count": 61,
      "outputs": []
    },
    {
      "cell_type": "code",
      "source": [
        "# # Merge the DataFrames based on the \"WB_A3\" column\n",
        "# merged_df = pd.merge(Secdf, gdf[['WB_A3', 'CONTINENT', 'geometry']], on='WB_A3', how='left')\n",
        "\n",
        "# merged_gdf = gpd.GeoDataFrame(merged_df, geometry='geometry')\n",
        "# #merged_gdf.info()"
      ],
      "metadata": {
        "id": "FhbOhTwxjUo3"
      },
      "execution_count": 62,
      "outputs": []
    },
    {
      "cell_type": "code",
      "source": [
        "# # Create a new DataFrame for rows with \"GLOBAL TOTAL\" in the 'Country' column\n",
        "# global_total_df = merged_gdf[merged_gdf['Country'] == 'GLOBAL TOTAL'].copy()\n",
        "\n",
        "# # Remove rows with \"GLOBAL TOTAL\" from the original DataFrame\n",
        "# merged_gdf = merged_gdf[merged_gdf['Country'] != 'GLOBAL TOTAL']"
      ],
      "metadata": {
        "id": "uNfD5J8NjZJm"
      },
      "execution_count": 63,
      "outputs": []
    },
    {
      "cell_type": "code",
      "source": [
        "# # Create a new DataFrame for rows with \"EU27\" in the 'Country' column\n",
        "# EU27_df = merged_gdf[merged_gdf['Country'] == 'EU27'].copy()\n",
        "\n",
        "# # Remove rows with \"EU27\" from the original DataFrame\n",
        "# merged_gdf = merged_gdf[merged_gdf['Country'] != 'EU27']"
      ],
      "metadata": {
        "id": "aCFZbaLBjd4U"
      },
      "execution_count": 64,
      "outputs": []
    },
    {
      "cell_type": "code",
      "source": [
        "# # Create a new DataFrame for rows with \"International Shipping\" in the 'Country' column\n",
        "# IntShip_df = merged_gdf[merged_gdf['Country'] == 'International Shipping'].copy()\n",
        "\n",
        "# # Remove rows with \"International Shipping\" from the original DataFrame\n",
        "# merged_gdf = merged_gdf[merged_gdf['Country'] != 'International Shipping']"
      ],
      "metadata": {
        "id": "wf3gmPg3jh7s"
      },
      "execution_count": 65,
      "outputs": []
    },
    {
      "cell_type": "code",
      "source": [
        "# # Create a new DataFrame for rows with \"International Aviation\" in the 'Country' column\n",
        "# IntAvi_df = merged_gdf[merged_gdf['Country'] == 'International Aviation'].copy()\n",
        "\n",
        "# # Remove rows with \"International Aviation\" from the original DataFrame\n",
        "# merged_gdf = merged_gdf[merged_gdf['Country'] != 'International Aviation']"
      ],
      "metadata": {
        "id": "qogbEB6-jnB3"
      },
      "execution_count": 66,
      "outputs": []
    },
    {
      "cell_type": "code",
      "source": [
        "# # Mapping of countries to continents\n",
        "# country_to_continent = {\n",
        "#     'Curaçao': 'North America',\n",
        "#     'Democratic Republic of the Congo': 'Africa',\n",
        "#     'Western Sahara': 'Africa',\n",
        "#     'Guadeloupe': 'North America',\n",
        "#     'French Guiana': 'South America',\n",
        "#     'Martinique': 'North America',\n",
        "#     'Réunion': 'Africa',\n",
        "#     'Romania': 'Europe',\n",
        "#     'Serbia and Montenegro': 'Europe',\n",
        "#     'Timor-Leste': 'Asia',\n",
        "#     'Taiwan': 'Asia'\n",
        "# }\n",
        "\n",
        "# # Fill missing continent values based on the mapping\n",
        "# merged_gdf['CONTINENT'] = merged_gdf['CONTINENT'].fillna(merged_gdf['Country'].map(country_to_continent))"
      ],
      "metadata": {
        "id": "NlnpsF9Hjqmn"
      },
      "execution_count": 67,
      "outputs": []
    },
    {
      "cell_type": "code",
      "source": [
        "# # Columns from 1970 to 2022\n",
        "# year_columns = [str(year) for year in range(1970, 2023)]\n",
        "\n",
        "# # Function to fill missing values based on the specified logic\n",
        "# def fill_missing_values(group):\n",
        "#     group[year_columns] = group[year_columns].fillna(group.groupby('CONTINENT')[year_columns].transform('mean'))\n",
        "#     return group\n",
        "\n",
        "# # Group by 'Sector' and apply the fill_missing_values function\n",
        "# merged_gdf = merged_gdf.groupby('Sector', group_keys=True).apply(fill_missing_values)\n",
        "# #merged_gdf.info()"
      ],
      "metadata": {
        "id": "a44NhVUXjvfm"
      },
      "execution_count": 68,
      "outputs": []
    },
    {
      "cell_type": "code",
      "source": [
        "# # Set the style of seaborn\n",
        "# sns.set(style=\"darkgrid\")\n",
        "\n",
        "# # Select the relevant columns for plotting\n",
        "# columns_to_plot = ['1970', '1971', '1972', '1973', '1974', '1975', '1976', '1977', '1978', '1979',\n",
        "#                    '1980', '1981', '1982', '1983', '1984', '1985', '1986', '1987', '1988', '1989',\n",
        "#                    '1990', '1991', '1992', '1993', '1994', '1995', '1996', '1997', '1998', '1999',\n",
        "#                    '2000', '2001', '2002', '2003', '2004', '2005', '2006', '2007', '2008', '2009',\n",
        "#                    '2010', '2011', '2012', '2013', '2014', '2015', '2016', '2017', '2018', '2019',\n",
        "#                    '2020', '2021', '2022']\n",
        "\n",
        "# # Convert 'CONTINENT' to categorical type\n",
        "# merged_gdf['CONTINENT'] = merged_gdf['CONTINENT'].astype('category')\n",
        "\n",
        "# # Extract the data for each category\n",
        "# agriculture_data = merged_gdf[merged_gdf['Sector'] == 'Agriculture'].groupby(['CONTINENT'])[columns_to_plot].sum().reset_index()\n",
        "# global_total_data = global_total_df[global_total_df['Sector']=='Agriculture'][columns_to_plot].sum()\n",
        "# eu27_data = EU27_df[EU27_df['Sector']=='Agriculture'][columns_to_plot].sum()\n",
        "# int_aviation_data = IntAvi_df[IntAvi_df['Sector']=='Agriculture'][columns_to_plot].sum()\n",
        "# int_shipping_data = IntShip_df[IntShip_df['Sector']=='Agriculture'][columns_to_plot].sum()\n",
        "\n",
        "# # Plotting\n",
        "# fig, ax = plt.subplots(figsize=(15, 8))\n",
        "\n",
        "# # Plot for Agriculture sector\n",
        "# ax.set_title('Emissions by Agriculture Sector(Mt CO2/yr)', fontsize=16, pad=20)\n",
        "\n",
        "# # Plot for each continent\n",
        "# for idx, continent in enumerate(agriculture_data['CONTINENT']):\n",
        "#     data = agriculture_data[agriculture_data['CONTINENT'] == continent][columns_to_plot].T\n",
        "#     if idx == 0:\n",
        "#         data.columns = [continent for _ in data.columns]\n",
        "#     elif idx == 1:\n",
        "#         data.columns = [continent for _ in data.columns]\n",
        "#     elif idx == 2:\n",
        "#         data.columns = [continent for _ in data.columns]\n",
        "#     elif idx == 3:\n",
        "#         data.columns = [continent for _ in data.columns]\n",
        "#     elif idx == 4:\n",
        "#         data.columns = [continent for _ in data.columns]\n",
        "#     elif idx == 5:\n",
        "#         data.columns = [continent for _ in data.columns]\n",
        "#     elif idx == 6:\n",
        "#         data.columns = [continent for _ in data.columns]\n",
        "\n",
        "#     data.plot(ax=ax, linewidth=2)\n",
        "\n",
        "# global_total_data.plot(ax=ax, label='Global Total', linewidth=2, linestyle='dashed')\n",
        "# eu27_data.plot(ax=ax, label='EU27', linewidth=2, linestyle='dashed')\n",
        "# int_aviation_data.plot(ax=ax, label='International Aviation', linewidth=2, linestyle='dashed')\n",
        "# int_shipping_data.plot(ax=ax, label='International Shipping', linewidth=2, linestyle='dashed')\n",
        "\n",
        "# # Set labels and title\n",
        "# plt.xlabel('Year')\n",
        "# plt.ylabel('Total Emissions (Mt CO2/yr)')\n",
        "# plt.legend()\n",
        "# plt.tight_layout()\n",
        "# plt.savefig('Agriculture')\n",
        "# # Show the plot\n",
        "# plt.show()"
      ],
      "metadata": {
        "id": "YAT2FyzLjzkK"
      },
      "execution_count": 69,
      "outputs": []
    },
    {
      "cell_type": "code",
      "source": [
        "# # Set the style of seaborn\n",
        "# sns.set(style=\"darkgrid\")\n",
        "\n",
        "# # Select the relevant columns for plotting\n",
        "# columns_to_plot = ['1970', '1971', '1972', '1973', '1974', '1975', '1976', '1977', '1978', '1979',\n",
        "#                    '1980', '1981', '1982', '1983', '1984', '1985', '1986', '1987', '1988', '1989',\n",
        "#                    '1990', '1991', '1992', '1993', '1994', '1995', '1996', '1997', '1998', '1999',\n",
        "#                    '2000', '2001', '2002', '2003', '2004', '2005', '2006', '2007', '2008', '2009',\n",
        "#                    '2010', '2011', '2012', '2013', '2014', '2015', '2016', '2017', '2018', '2019',\n",
        "#                    '2020', '2021', '2022']\n",
        "\n",
        "# # Convert 'CONTINENT' to categorical type\n",
        "# merged_gdf['CONTINENT'] = merged_gdf['CONTINENT'].astype('category')\n",
        "\n",
        "# # Extract the data for each category\n",
        "# Buildings = merged_gdf[merged_gdf['Sector'] == 'Buildings'].groupby(['CONTINENT'])[columns_to_plot].sum().reset_index()\n",
        "# global_total_data = global_total_df[global_total_df['Sector']=='Buildings'][columns_to_plot].sum()\n",
        "# eu27_data = EU27_df[EU27_df['Sector']=='Buildings'][columns_to_plot].sum()\n",
        "# int_aviation_data = IntAvi_df[IntAvi_df['Sector']=='Buildings'][columns_to_plot].sum()\n",
        "# int_shipping_data = IntShip_df[IntShip_df['Sector']=='Buildings'][columns_to_plot].sum()\n",
        "\n",
        "# # Plotting\n",
        "# fig, ax = plt.subplots(figsize=(15, 8))\n",
        "\n",
        "# # Plot for Buildings sector\n",
        "# ax.set_title('Emissions by Buildings Sector(Mt CO2/yr)', fontsize=16, pad=20)\n",
        "\n",
        "# # Plot for each continent\n",
        "# for idx, continent in enumerate(Buildings['CONTINENT']):\n",
        "#     data = Buildings[Buildings['CONTINENT'] == continent][columns_to_plot].T\n",
        "#     if idx == 0:\n",
        "#         data.columns = [continent for _ in data.columns]\n",
        "#     elif idx == 1:\n",
        "#         data.columns = [continent for _ in data.columns]\n",
        "#     elif idx == 2:\n",
        "#         data.columns = [continent for _ in data.columns]\n",
        "#     elif idx == 3:\n",
        "#         data.columns = [continent for _ in data.columns]\n",
        "#     elif idx == 4:\n",
        "#         data.columns = [continent for _ in data.columns]\n",
        "#     elif idx == 5:\n",
        "#         data.columns = [continent for _ in data.columns]\n",
        "#     elif idx == 6:\n",
        "#         data.columns = [continent for _ in data.columns]\n",
        "\n",
        "#     data.plot(ax=ax, linewidth=2)\n",
        "\n",
        "# global_total_data.plot(ax=ax, label='Global Total', linewidth=2, linestyle='dashed')\n",
        "# eu27_data.plot(ax=ax, label='EU27', linewidth=2, linestyle='dashed')\n",
        "# int_aviation_data.plot(ax=ax, label='International Aviation', linewidth=2, linestyle='dashed')\n",
        "# int_shipping_data.plot(ax=ax, label='International Shipping', linewidth=2, linestyle='dashed')\n",
        "\n",
        "# # Set labels and title\n",
        "# plt.xlabel('Year')\n",
        "# plt.ylabel('Total Emissions (Mt CO2/yr)')\n",
        "# plt.legend()\n",
        "# plt.tight_layout()\n",
        "# plt.savefig('Buildings')\n",
        "# # Show the plot\n",
        "# plt.show()"
      ],
      "metadata": {
        "id": "raXj4f4Cj5dL"
      },
      "execution_count": 70,
      "outputs": []
    },
    {
      "cell_type": "code",
      "source": [
        "# # Set the style of seaborn\n",
        "# sns.set(style=\"darkgrid\")\n",
        "\n",
        "# # Select the relevant columns for plotting\n",
        "# columns_to_plot = ['1970', '1971', '1972', '1973', '1974', '1975', '1976', '1977', '1978', '1979',\n",
        "#                    '1980', '1981', '1982', '1983', '1984', '1985', '1986', '1987', '1988', '1989',\n",
        "#                    '1990', '1991', '1992', '1993', '1994', '1995', '1996', '1997', '1998', '1999',\n",
        "#                    '2000', '2001', '2002', '2003', '2004', '2005', '2006', '2007', '2008', '2009',\n",
        "#                    '2010', '2011', '2012', '2013', '2014', '2015', '2016', '2017', '2018', '2019',\n",
        "#                    '2020', '2021', '2022']\n",
        "\n",
        "# # Convert 'CONTINENT' to categorical type\n",
        "# merged_gdf['CONTINENT'] = merged_gdf['CONTINENT'].astype('category')\n",
        "\n",
        "# # Extract the data for each category\n",
        "# FuelExploitation = merged_gdf[merged_gdf['Sector'] == 'Fuel Exploitation'].groupby(['CONTINENT'])[columns_to_plot].sum().reset_index()\n",
        "# global_total_data = global_total_df[global_total_df['Sector']=='Fuel Exploitation'][columns_to_plot].sum()\n",
        "# eu27_data = EU27_df[EU27_df['Sector']=='Fuel Exploitation'][columns_to_plot].sum()\n",
        "# int_aviation_data = IntAvi_df[IntAvi_df['Sector']=='Fuel Exploitation'][columns_to_plot].sum()\n",
        "# int_shipping_data = IntShip_df[IntShip_df['Sector']=='Fuel Exploitation'][columns_to_plot].sum()\n",
        "\n",
        "# # Plotting\n",
        "# fig, ax = plt.subplots(figsize=(15, 8))\n",
        "\n",
        "# # Plot for Fuel Exploitation sector\n",
        "# ax.set_title('Emissions by Fuel Exploitation Sector(Mt CO2/yr)', fontsize=16, pad=20)\n",
        "\n",
        "# # Plot for each continent\n",
        "# for idx, continent in enumerate(FuelExploitation['CONTINENT']):\n",
        "#     data = FuelExploitation[FuelExploitation['CONTINENT'] == continent][columns_to_plot].T\n",
        "#     if idx == 0:\n",
        "#         data.columns = [continent for _ in data.columns]\n",
        "#     elif idx == 1:\n",
        "#         data.columns = [continent for _ in data.columns]\n",
        "#     elif idx == 2:\n",
        "#         data.columns = [continent for _ in data.columns]\n",
        "#     elif idx == 3:\n",
        "#         data.columns = [continent for _ in data.columns]\n",
        "#     elif idx == 4:\n",
        "#         data.columns = [continent for _ in data.columns]\n",
        "#     elif idx == 5:\n",
        "#         data.columns = [continent for _ in data.columns]\n",
        "#     elif idx == 6:\n",
        "#         data.columns = [continent for _ in data.columns]\n",
        "\n",
        "#     data.plot(ax=ax, linewidth=2)\n",
        "\n",
        "# global_total_data.plot(ax=ax, label='Global Total', linewidth=2, linestyle='dashed')\n",
        "# eu27_data.plot(ax=ax, label='EU27', linewidth=2, linestyle='dashed')\n",
        "# int_aviation_data.plot(ax=ax, label='International Aviation', linewidth=2, linestyle='dashed')\n",
        "# int_shipping_data.plot(ax=ax, label='International Shipping', linewidth=2, linestyle='dashed')\n",
        "\n",
        "# # Set labels and title\n",
        "# plt.xlabel('Year')\n",
        "# plt.ylabel('Total Emissions (Mt CO2/yr)')\n",
        "# plt.legend()\n",
        "# plt.tight_layout()\n",
        "# plt.savefig('FuelExploitation')\n",
        "# # Show the plot\n",
        "# plt.show()"
      ],
      "metadata": {
        "id": "BSR4A4kDkAJ7"
      },
      "execution_count": 71,
      "outputs": []
    },
    {
      "cell_type": "code",
      "source": [
        "# # Set the style of seaborn\n",
        "# sns.set(style=\"darkgrid\")\n",
        "\n",
        "# # Select the relevant columns for plotting\n",
        "# columns_to_plot = ['1970', '1971', '1972', '1973', '1974', '1975', '1976', '1977', '1978', '1979',\n",
        "#                    '1980', '1981', '1982', '1983', '1984', '1985', '1986', '1987', '1988', '1989',\n",
        "#                    '1990', '1991', '1992', '1993', '1994', '1995', '1996', '1997', '1998', '1999',\n",
        "#                    '2000', '2001', '2002', '2003', '2004', '2005', '2006', '2007', '2008', '2009',\n",
        "#                    '2010', '2011', '2012', '2013', '2014', '2015', '2016', '2017', '2018', '2019',\n",
        "#                    '2020', '2021', '2022']\n",
        "\n",
        "# # Convert 'CONTINENT' to categorical type\n",
        "# merged_gdf['CONTINENT'] = merged_gdf['CONTINENT'].astype('category')\n",
        "\n",
        "# # Extract the data for each category\n",
        "# IndustrialCombustion = merged_gdf[merged_gdf['Sector'] == 'Industrial Combustion'].groupby(['CONTINENT'])[columns_to_plot].sum().reset_index()\n",
        "# global_total_data = global_total_df[global_total_df['Sector']=='Industrial Combustion'][columns_to_plot].sum()\n",
        "# eu27_data = EU27_df[EU27_df['Sector']=='Industrial Combustion'][columns_to_plot].sum()\n",
        "# int_aviation_data = IntAvi_df[IntAvi_df['Sector']=='Industrial Combustion'][columns_to_plot].sum()\n",
        "# int_shipping_data = IntShip_df[IntShip_df['Sector']=='Industrial Combustion'][columns_to_plot].sum()\n",
        "\n",
        "# # Plotting\n",
        "# fig, ax = plt.subplots(figsize=(15, 8))\n",
        "\n",
        "# # Plot for Industrial Combustion sector\n",
        "# ax.set_title('Emissions by Industrial Combustion Sector(Mt CO2/yr)', fontsize=16, pad=20)\n",
        "\n",
        "# # Plot for each continent\n",
        "# for idx, continent in enumerate(IndustrialCombustion['CONTINENT']):\n",
        "#     data = IndustrialCombustion[IndustrialCombustion['CONTINENT'] == continent][columns_to_plot].T\n",
        "#     if idx == 0:\n",
        "#         data.columns = [continent for _ in data.columns]\n",
        "#     elif idx == 1:\n",
        "#         data.columns = [continent for _ in data.columns]\n",
        "#     elif idx == 2:\n",
        "#         data.columns = [continent for _ in data.columns]\n",
        "#     elif idx == 3:\n",
        "#         data.columns = [continent for _ in data.columns]\n",
        "#     elif idx == 4:\n",
        "#         data.columns = [continent for _ in data.columns]\n",
        "#     elif idx == 5:\n",
        "#         data.columns = [continent for _ in data.columns]\n",
        "#     elif idx == 6:\n",
        "#         data.columns = [continent for _ in data.columns]\n",
        "\n",
        "#     data.plot(ax=ax, linewidth=2)\n",
        "\n",
        "# global_total_data.plot(ax=ax, label='Global Total', linewidth=2, linestyle='dashed')\n",
        "# eu27_data.plot(ax=ax, label='EU27', linewidth=2, linestyle='dashed')\n",
        "# int_aviation_data.plot(ax=ax, label='International Aviation', linewidth=2, linestyle='dashed')\n",
        "# int_shipping_data.plot(ax=ax, label='International Shipping', linewidth=2, linestyle='dashed')\n",
        "\n",
        "# # Set labels and title\n",
        "# plt.xlabel('Year')\n",
        "# plt.ylabel('Total Emissions (Mt CO2/yr)')\n",
        "# plt.legend()\n",
        "# plt.tight_layout()\n",
        "# plt.savefig('Industrial Combustion')\n",
        "# # Show the plot\n",
        "# plt.show()"
      ],
      "metadata": {
        "id": "fPDTJbRIkFG9"
      },
      "execution_count": 72,
      "outputs": []
    },
    {
      "cell_type": "code",
      "source": [
        "# # Set the style of seaborn\n",
        "# sns.set(style=\"darkgrid\")\n",
        "\n",
        "# # Select the relevant columns for plotting\n",
        "# columns_to_plot = ['1970', '1971', '1972', '1973', '1974', '1975', '1976', '1977', '1978', '1979',\n",
        "#                    '1980', '1981', '1982', '1983', '1984', '1985', '1986', '1987', '1988', '1989',\n",
        "#                    '1990', '1991', '1992', '1993', '1994', '1995', '1996', '1997', '1998', '1999',\n",
        "#                    '2000', '2001', '2002', '2003', '2004', '2005', '2006', '2007', '2008', '2009',\n",
        "#                    '2010', '2011', '2012', '2013', '2014', '2015', '2016', '2017', '2018', '2019',\n",
        "#                    '2020', '2021', '2022']\n",
        "\n",
        "# # Convert 'CONTINENT' to categorical type\n",
        "# merged_gdf['CONTINENT'] = merged_gdf['CONTINENT'].astype('category')\n",
        "\n",
        "# # Extract the data for each category\n",
        "# PowerIndustry = merged_gdf[merged_gdf['Sector'] == 'Power Industry'].groupby(['CONTINENT'])[columns_to_plot].sum().reset_index()\n",
        "# global_total_data = global_total_df[global_total_df['Sector']=='Power Industry'][columns_to_plot].sum()\n",
        "# eu27_data = EU27_df[EU27_df['Sector']=='Power Industry'][columns_to_plot].sum()\n",
        "# int_aviation_data = IntAvi_df[IntAvi_df['Sector']=='Power Industry'][columns_to_plot].sum()\n",
        "# int_shipping_data = IntShip_df[IntShip_df['Sector']=='Power Industry'][columns_to_plot].sum()\n",
        "\n",
        "# # Plotting\n",
        "# fig, ax = plt.subplots(figsize=(15, 8))\n",
        "\n",
        "# # Plot for Power Industry sector\n",
        "# ax.set_title('Emissions by Power Industry Sector(Mt CO2/yr)', fontsize=16, pad=20)\n",
        "\n",
        "# # Plot for each continent\n",
        "# for idx, continent in enumerate(PowerIndustry['CONTINENT']):\n",
        "#     data = PowerIndustry[PowerIndustry['CONTINENT'] == continent][columns_to_plot].T\n",
        "#     if idx == 0:\n",
        "#         data.columns = [continent for _ in data.columns]\n",
        "#     elif idx == 1:\n",
        "#         data.columns = [continent for _ in data.columns]\n",
        "#     elif idx == 2:\n",
        "#         data.columns = [continent for _ in data.columns]\n",
        "#     elif idx == 3:\n",
        "#         data.columns = [continent for _ in data.columns]\n",
        "#     elif idx == 4:\n",
        "#         data.columns = [continent for _ in data.columns]\n",
        "#     elif idx == 5:\n",
        "#         data.columns = [continent for _ in data.columns]\n",
        "#     elif idx == 6:\n",
        "#         data.columns = [continent for _ in data.columns]\n",
        "\n",
        "#     data.plot(ax=ax, linewidth=2)\n",
        "\n",
        "# global_total_data.plot(ax=ax, label='Global Total', linewidth=2, linestyle='dashed')\n",
        "# eu27_data.plot(ax=ax, label='EU27', linewidth=2, linestyle='dashed')\n",
        "# int_aviation_data.plot(ax=ax, label='International Aviation', linewidth=2, linestyle='dashed')\n",
        "# int_shipping_data.plot(ax=ax, label='International Shipping', linewidth=2, linestyle='dashed')\n",
        "\n",
        "# # Set labels and title\n",
        "# plt.xlabel('Year')\n",
        "# plt.ylabel('Total Emissions (Mt CO2/yr)')\n",
        "# plt.legend()\n",
        "# plt.tight_layout()\n",
        "# plt.savefig('Power Industry')\n",
        "# # Show the plot\n",
        "# plt.show()"
      ],
      "metadata": {
        "id": "CLkATVAXkJZx"
      },
      "execution_count": 73,
      "outputs": []
    },
    {
      "cell_type": "code",
      "source": [
        "# # Set the style of seaborn\n",
        "# sns.set(style=\"darkgrid\")\n",
        "\n",
        "# # Select the relevant columns for plotting\n",
        "# columns_to_plot = ['1970', '1971', '1972', '1973', '1974', '1975', '1976', '1977', '1978', '1979',\n",
        "#                    '1980', '1981', '1982', '1983', '1984', '1985', '1986', '1987', '1988', '1989',\n",
        "#                    '1990', '1991', '1992', '1993', '1994', '1995', '1996', '1997', '1998', '1999',\n",
        "#                    '2000', '2001', '2002', '2003', '2004', '2005', '2006', '2007', '2008', '2009',\n",
        "#                    '2010', '2011', '2012', '2013', '2014', '2015', '2016', '2017', '2018', '2019',\n",
        "#                    '2020', '2021', '2022']\n",
        "\n",
        "# # Convert 'CONTINENT' to categorical type\n",
        "# merged_gdf['CONTINENT'] = merged_gdf['CONTINENT'].astype('category')\n",
        "\n",
        "# # Extract the data for each category\n",
        "# Processes = merged_gdf[merged_gdf['Sector'] == 'Processes'].groupby(['CONTINENT'])[columns_to_plot].sum().reset_index()\n",
        "# global_total_data = global_total_df[global_total_df['Sector']=='Processes'][columns_to_plot].sum()\n",
        "# eu27_data = EU27_df[EU27_df['Sector']=='Processes'][columns_to_plot].sum()\n",
        "# int_aviation_data = IntAvi_df[IntAvi_df['Sector']=='Processes'][columns_to_plot].sum()\n",
        "# int_shipping_data = IntShip_df[IntShip_df['Sector']=='Processes'][columns_to_plot].sum()\n",
        "\n",
        "# # Plotting\n",
        "# fig, ax = plt.subplots(figsize=(15, 8))\n",
        "\n",
        "# # Plot for Processes sector\n",
        "# ax.set_title('Emissions by Processes Sector(Mt CO2/yr)', fontsize=16, pad=20)\n",
        "\n",
        "# # Plot for each continent\n",
        "# for idx, continent in enumerate(Processes['CONTINENT']):\n",
        "#     data = Processes[Processes['CONTINENT'] == continent][columns_to_plot].T\n",
        "#     if idx == 0:\n",
        "#         data.columns = [continent for _ in data.columns]\n",
        "#     elif idx == 1:\n",
        "#         data.columns = [continent for _ in data.columns]\n",
        "#     elif idx == 2:\n",
        "#         data.columns = [continent for _ in data.columns]\n",
        "#     elif idx == 3:\n",
        "#         data.columns = [continent for _ in data.columns]\n",
        "#     elif idx == 4:\n",
        "#         data.columns = [continent for _ in data.columns]\n",
        "#     elif idx == 5:\n",
        "#         data.columns = [continent for _ in data.columns]\n",
        "#     elif idx == 6:\n",
        "#         data.columns = [continent for _ in data.columns]\n",
        "\n",
        "#     data.plot(ax=ax, linewidth=2)\n",
        "\n",
        "# global_total_data.plot(ax=ax, label='Global Total', linewidth=2, linestyle='dashed')\n",
        "# eu27_data.plot(ax=ax, label='EU27', linewidth=2, linestyle='dashed')\n",
        "# int_aviation_data.plot(ax=ax, label='International Aviation', linewidth=2, linestyle='dashed')\n",
        "# int_shipping_data.plot(ax=ax, label='International Shipping', linewidth=2, linestyle='dashed')\n",
        "\n",
        "# # Set labels and title\n",
        "# plt.xlabel('Year')\n",
        "# plt.ylabel('Total Emissions (Mt CO2/yr)')\n",
        "# plt.legend()\n",
        "# plt.tight_layout()\n",
        "# plt.savefig('Processes')\n",
        "# # Show the plot\n",
        "# plt.show()"
      ],
      "metadata": {
        "id": "563seiEAkOJs"
      },
      "execution_count": 74,
      "outputs": []
    },
    {
      "cell_type": "code",
      "source": [
        "# # Set the style of seaborn\n",
        "# sns.set(style=\"darkgrid\")\n",
        "\n",
        "# # Select the relevant columns for plotting\n",
        "# columns_to_plot = ['1970', '1971', '1972', '1973', '1974', '1975', '1976', '1977', '1978', '1979',\n",
        "#                    '1980', '1981', '1982', '1983', '1984', '1985', '1986', '1987', '1988', '1989',\n",
        "#                    '1990', '1991', '1992', '1993', '1994', '1995', '1996', '1997', '1998', '1999',\n",
        "#                    '2000', '2001', '2002', '2003', '2004', '2005', '2006', '2007', '2008', '2009',\n",
        "#                    '2010', '2011', '2012', '2013', '2014', '2015', '2016', '2017', '2018', '2019',\n",
        "#                    '2020', '2021', '2022']\n",
        "\n",
        "# # Convert 'CONTINENT' to categorical type\n",
        "# merged_gdf['CONTINENT'] = merged_gdf['CONTINENT'].astype('category')\n",
        "\n",
        "# # Extract the data for each category\n",
        "# Transport = merged_gdf[merged_gdf['Sector'] == 'Transport'].groupby(['CONTINENT'])[columns_to_plot].sum().reset_index()\n",
        "# global_total_data = global_total_df[global_total_df['Sector']=='Transport'][columns_to_plot].sum()\n",
        "# eu27_data = EU27_df[EU27_df['Sector']=='Transport'][columns_to_plot].sum()\n",
        "# int_aviation_data = IntAvi_df[IntAvi_df['Sector']=='Transport'][columns_to_plot].sum()\n",
        "# int_shipping_data = IntShip_df[IntShip_df['Sector']=='Transport'][columns_to_plot].sum()\n",
        "\n",
        "# # Plotting\n",
        "# fig, ax = plt.subplots(figsize=(15, 8))\n",
        "\n",
        "# # Plot for Transport sector\n",
        "# ax.set_title('Emissions by Transport Sector(Mt CO2/yr)', fontsize=16, pad=20)\n",
        "\n",
        "# # Plot for each continent\n",
        "# for idx, continent in enumerate(Transport['CONTINENT']):\n",
        "#     data = Transport[Transport['CONTINENT'] == continent][columns_to_plot].T\n",
        "#     if idx == 0:\n",
        "#         data.columns = [continent for _ in data.columns]\n",
        "#     elif idx == 1:\n",
        "#         data.columns = [continent for _ in data.columns]\n",
        "#     elif idx == 2:\n",
        "#         data.columns = [continent for _ in data.columns]\n",
        "#     elif idx == 3:\n",
        "#         data.columns = [continent for _ in data.columns]\n",
        "#     elif idx == 4:\n",
        "#         data.columns = [continent for _ in data.columns]\n",
        "#     elif idx == 5:\n",
        "#         data.columns = [continent for _ in data.columns]\n",
        "#     elif idx == 6:\n",
        "#         data.columns = [continent for _ in data.columns]\n",
        "\n",
        "#     data.plot(ax=ax, linewidth=2)\n",
        "\n",
        "# global_total_data.plot(ax=ax, label='Global Total', linewidth=2, linestyle='dashed')\n",
        "# eu27_data.plot(ax=ax, label='EU27', linewidth=2, linestyle='dashed')\n",
        "# int_aviation_data.plot(ax=ax, label='International Aviation', linewidth=2, linestyle='dashed')\n",
        "# int_shipping_data.plot(ax=ax, label='International Shipping', linewidth=2, linestyle='dashed')\n",
        "\n",
        "# # Set labels and title\n",
        "# plt.xlabel('Year')\n",
        "# plt.ylabel('Total Emissions (Mt CO2/yr)')\n",
        "# plt.legend()\n",
        "# plt.tight_layout()\n",
        "# plt.savefig('Transport')\n",
        "# # Show the plot\n",
        "# plt.show()"
      ],
      "metadata": {
        "id": "_QitMFcWkTMY"
      },
      "execution_count": 75,
      "outputs": []
    },
    {
      "cell_type": "code",
      "source": [
        "# # Set the style of seaborn\n",
        "# sns.set(style=\"darkgrid\")\n",
        "\n",
        "# # Select the relevant columns for plotting\n",
        "# columns_to_plot = ['1970', '1971', '1972', '1973', '1974', '1975', '1976', '1977', '1978', '1979',\n",
        "#                    '1980', '1981', '1982', '1983', '1984', '1985', '1986', '1987', '1988', '1989',\n",
        "#                    '1990', '1991', '1992', '1993', '1994', '1995', '1996', '1997', '1998', '1999',\n",
        "#                    '2000', '2001', '2002', '2003', '2004', '2005', '2006', '2007', '2008', '2009',\n",
        "#                    '2010', '2011', '2012', '2013', '2014', '2015', '2016', '2017', '2018', '2019',\n",
        "#                    '2020', '2021', '2022']\n",
        "\n",
        "# # Convert 'CONTINENT' to categorical type\n",
        "# merged_gdf['CONTINENT'] = merged_gdf['CONTINENT'].astype('category')\n",
        "\n",
        "# # Extract the data for each category\n",
        "# Waste = merged_gdf[merged_gdf['Sector'] == 'Waste'].groupby(['CONTINENT'])[columns_to_plot].sum().reset_index()\n",
        "# global_total_data = global_total_df[global_total_df['Sector']=='Waste'][columns_to_plot].sum()\n",
        "# eu27_data = EU27_df[EU27_df['Sector']=='Waste'][columns_to_plot].sum()\n",
        "# int_aviation_data = IntAvi_df[IntAvi_df['Sector']=='Waste'][columns_to_plot].sum()\n",
        "# int_shipping_data = IntShip_df[IntShip_df['Sector']=='Waste'][columns_to_plot].sum()\n",
        "\n",
        "# # Plotting\n",
        "# fig, ax = plt.subplots(figsize=(15, 8))\n",
        "\n",
        "# # Plot for Waste sector\n",
        "# ax.set_title('Emissions by Waste Sector(Mt CO2/yr)', fontsize=16, pad=20)\n",
        "\n",
        "# # Plot for each continent\n",
        "# for idx, continent in enumerate(Waste['CONTINENT']):\n",
        "#     data = Waste[Waste['CONTINENT'] == continent][columns_to_plot].T\n",
        "#     if idx == 0:\n",
        "#         data.columns = [continent for _ in data.columns]\n",
        "#     elif idx == 1:\n",
        "#         data.columns = [continent for _ in data.columns]\n",
        "#     elif idx == 2:\n",
        "#         data.columns = [continent for _ in data.columns]\n",
        "#     elif idx == 3:\n",
        "#         data.columns = [continent for _ in data.columns]\n",
        "#     elif idx == 4:\n",
        "#         data.columns = [continent for _ in data.columns]\n",
        "#     elif idx == 5:\n",
        "#         data.columns = [continent for _ in data.columns]\n",
        "#     elif idx == 6:\n",
        "#         data.columns = [continent for _ in data.columns]\n",
        "\n",
        "#     data.plot(ax=ax, linewidth=2)\n",
        "\n",
        "# global_total_data.plot(ax=ax, label='Global Total', linewidth=2, linestyle='dashed')\n",
        "# eu27_data.plot(ax=ax, label='EU27', linewidth=2, linestyle='dashed')\n",
        "# int_aviation_data.plot(ax=ax, label='International Aviation', linewidth=2, linestyle='dashed')\n",
        "# int_shipping_data.plot(ax=ax, label='International Shipping', linewidth=2, linestyle='dashed')\n",
        "\n",
        "# # Set labels and title\n",
        "# plt.xlabel('Year')\n",
        "# plt.ylabel('Total Emissions (Mt CO2/yr)')\n",
        "# plt.legend()\n",
        "# plt.tight_layout()\n",
        "# plt.savefig('Waste')\n",
        "# # Show the plot\n",
        "# plt.show()"
      ],
      "metadata": {
        "id": "SBdXh6YSkXH3"
      },
      "execution_count": 76,
      "outputs": []
    },
    {
      "cell_type": "markdown",
      "source": [
        "Carbon Emissions per Capita"
      ],
      "metadata": {
        "id": "RKqxH5Wskqon"
      }
    },
    {
      "cell_type": "code",
      "source": [
        "# def wrangleCAP(filepath):\n",
        "#   # Read file\n",
        "#   df = pd.read_csv(filepath, sep=';')\n",
        "\n",
        "#   # Clean and update cols\n",
        "#   for col in df[df.columns[3:]].columns:\n",
        "#     df[col] = df[col].str.replace(',', '.').astype('float')\n",
        "\n",
        "#   # Drop rows with missing values in 'Country'\n",
        "#   df = df.dropna(subset=['Country'])\n",
        "\n",
        "#   # Drop cols with low cardinality\n",
        "#   df.drop(columns=['Substance'], inplace=True)\n",
        "\n",
        "#   # Rename cols\n",
        "#   df.rename(columns={'EDGAR Country Code':'WB_A3'}, inplace=True)\n",
        "\n",
        "#   return df"
      ],
      "metadata": {
        "id": "xfn32glEkbhW"
      },
      "execution_count": 77,
      "outputs": []
    },
    {
      "cell_type": "code",
      "source": [
        "# capdf = wrangleCAP('/content/fossil_CO2_per_capita_by_countr.csv')\n",
        "# #capdf.head()"
      ],
      "metadata": {
        "id": "ZNWyB21lk06i"
      },
      "execution_count": 78,
      "outputs": []
    },
    {
      "cell_type": "code",
      "source": [
        "#capdf.info()"
      ],
      "metadata": {
        "id": "DsUwPfktk4Gx"
      },
      "execution_count": 79,
      "outputs": []
    },
    {
      "cell_type": "code",
      "source": [
        "# def wrangleN(filepath):\n",
        "#   # Read shapefile\n",
        "#   gdf = gpd.read_file(filepath)\n",
        "\n",
        "#   # Drop cols\n",
        "#   cols = ['featurecla', 'LEVEL', 'FORMAL_FR',\n",
        "#         'POP_YEAR', 'LASTCENSUS', 'GDP_YEAR',\n",
        "#         'FIPS_10_', 'ISO_A2', 'ISO_A3', 'ISO_A3_EH',\n",
        "#         'ISO_N3', 'UN_A3', 'WB_A2', 'WB_RULES',\n",
        "#         'WB_REGION', 'REGION_UN', 'REGION_WB', 'FORMAL_EN']\n",
        "#   cols.extend(gdf.columns[26:-6])\n",
        "#   gdf.drop(columns=cols, inplace=True)\n",
        "\n",
        "#   # Return gdf\n",
        "#   return gdf"
      ],
      "metadata": {
        "id": "cQby1idmk69p"
      },
      "execution_count": 80,
      "outputs": []
    },
    {
      "cell_type": "code",
      "source": [
        "# gdf = wrangleN('/content/WB_countries_Admin0_10m.shp')"
      ],
      "metadata": {
        "id": "BGwRfAyCk-ZG"
      },
      "execution_count": 81,
      "outputs": []
    },
    {
      "cell_type": "code",
      "source": [
        "# # Merge the DataFrames based on the \"WB_A3\" column\n",
        "# merged_df = pd.merge(capdf, gdf[['WB_A3', 'CONTINENT', 'geometry']], on='WB_A3', how='left')\n",
        "\n",
        "# merged_gdf = gpd.GeoDataFrame(merged_df, geometry='geometry')\n",
        "# #merged_gdf.info()"
      ],
      "metadata": {
        "id": "TzGS4YbWlB2a"
      },
      "execution_count": 82,
      "outputs": []
    },
    {
      "cell_type": "code",
      "source": [
        "# # Create a new DataFrame for rows with \"GLOBAL TOTAL\" in the 'Country' column\n",
        "# global_total_df = merged_gdf[merged_gdf['Country'] == 'GLOBAL TOTAL'].copy()\n",
        "\n",
        "# # Remove rows with \"GLOBAL TOTAL\" from the original DataFrame\n",
        "# merged_gdf = merged_gdf[merged_gdf['Country'] != 'GLOBAL TOTAL']"
      ],
      "metadata": {
        "id": "Jr5l-Cu1lFG9"
      },
      "execution_count": 83,
      "outputs": []
    },
    {
      "cell_type": "code",
      "source": [
        "# # Create a new DataFrame for rows with \"EU27\" in the 'Country' column\n",
        "# EU27_df = merged_gdf[merged_gdf['Country'] == 'EU27'].copy()\n",
        "\n",
        "# # Remove rows with \"GLOBAL TOTAL\" from the original DataFrame\n",
        "# merged_gdf = merged_gdf[merged_gdf['Country'] != 'EU27']"
      ],
      "metadata": {
        "id": "oL-M_nlblJDO"
      },
      "execution_count": 84,
      "outputs": []
    },
    {
      "cell_type": "code",
      "source": [
        "# # Mapping of countries to continents\n",
        "# country_to_continent = {\n",
        "#     'Curaçao': 'North America',\n",
        "#     'Democratic Republic of the Congo': 'Africa',\n",
        "#     'Western Sahara': 'Africa',\n",
        "#     'Guadeloupe': 'North America',\n",
        "#     'French Guiana': 'South America',\n",
        "#     'Martinique': 'North America',\n",
        "#     'Réunion': 'Africa',\n",
        "#     'Romania': 'Europe',\n",
        "#     'Serbia and Montenegro': 'Europe',\n",
        "#     'Timor-Leste': 'Asia',\n",
        "#     'Taiwan': 'Asia'\n",
        "# }\n",
        "\n",
        "# # Fill missing continent values based on the mapping\n",
        "# merged_gdf['CONTINENT'] = merged_gdf['CONTINENT'].fillna(merged_gdf['Country'].map(country_to_continent))"
      ],
      "metadata": {
        "id": "0yuTtRYMlL_m"
      },
      "execution_count": 85,
      "outputs": []
    },
    {
      "cell_type": "code",
      "source": [
        "# # Set the style of seaborn\n",
        "# sns.set(style=\"darkgrid\")\n",
        "\n",
        "# # Select the relevant columns for plotting\n",
        "# columns_to_plot = ['1970', '1971', '1972', '1973', '1974', '1975', '1976', '1977', '1978', '1979',\n",
        "#                    '1980', '1981', '1982', '1983', '1984', '1985', '1986', '1987', '1988', '1989',\n",
        "#                    '1990', '1991', '1992', '1993', '1994', '1995', '1996', '1997', '1998', '1999',\n",
        "#                    '2000', '2001', '2002', '2003', '2004', '2005', '2006', '2007', '2008', '2009',\n",
        "#                    '2010', '2011', '2012', '2013', '2014', '2015', '2016', '2017', '2018', '2019',\n",
        "#                    '2020', '2021', '2022']\n",
        "\n",
        "# # Extract the data for each category\n",
        "# continents_data = merged_gdf.groupby('CONTINENT')[columns_to_plot].sum()\n",
        "# global_total_data = global_total_df[columns_to_plot].sum()\n",
        "# eu27_data = EU27_df[columns_to_plot].sum()\n",
        "\n",
        "# # Plotting\n",
        "# fig, ax = plt.subplots(figsize=(15, 8))\n",
        "# continents_data.transpose().plot(ax=ax, linewidth=2)\n",
        "# #global_total_data.plot(ax=ax, label='Global Total', linewidth=2, linestyle='dashed')\n",
        "# #eu27_data.plot(ax=ax, label='EU27', linewidth=2, linestyle='dashed')\n",
        "\n",
        "# # Set labels and title\n",
        "# plt.xlabel('Year')\n",
        "# plt.ylabel('Total Emissions (t CO2/cap/yr)')\n",
        "# plt.title('Emissions across Continents (t CO2/cap/yr)')\n",
        "# plt.legend()\n",
        "# plt.grid(True)\n",
        "# plt.tight_layout()\n",
        "# plt.savefig('EmPerSector')\n",
        "\n",
        "# # Show the plot\n",
        "# plt.show()"
      ],
      "metadata": {
        "id": "hjz8i4FilQBy"
      },
      "execution_count": 86,
      "outputs": []
    },
    {
      "cell_type": "markdown",
      "source": [
        "Total Carbon Emissions per Country"
      ],
      "metadata": {
        "id": "7Vo9svYplbrD"
      }
    },
    {
      "cell_type": "code",
      "source": [
        "# def wrangle(filepath):\n",
        "#   # Read file\n",
        "#   df = pd.read_csv(filepath, sep=';')\n",
        "\n",
        "#   # Clean and update cols\n",
        "#   for col in df[df.columns[3:]].columns:\n",
        "#     df[col] = df[col].str.replace(',', '.').astype('float')\n",
        "\n",
        "#   # Drop rows with missing values in 'Country'\n",
        "#   df = df.dropna(subset=['Country'])\n",
        "\n",
        "#   # Drop cols with low cardinality\n",
        "#   df.drop(columns=['Substance'], inplace=True)\n",
        "\n",
        "#   # Rename cols\n",
        "#   df.rename(columns={'EDGAR Country Code':'WB_A3'}, inplace=True)\n",
        "\n",
        "#   return df"
      ],
      "metadata": {
        "id": "PYfITcBLlTfK"
      },
      "execution_count": 87,
      "outputs": []
    },
    {
      "cell_type": "code",
      "source": [
        "# Tot = wrangle('/content/fossil_CO2_totals_by_country.csv')\n",
        "# Tot.info()"
      ],
      "metadata": {
        "id": "uykPYWA7luns"
      },
      "execution_count": 88,
      "outputs": []
    },
    {
      "cell_type": "code",
      "source": [
        "# def wrangleN(filepath):\n",
        "#   # Read shapefile\n",
        "#   gdf = gpd.read_file(filepath)\n",
        "\n",
        "#   # Drop cols\n",
        "#   cols = ['featurecla', 'LEVEL', 'FORMAL_FR',\n",
        "#         'POP_YEAR', 'LASTCENSUS', 'GDP_YEAR',\n",
        "#         'FIPS_10_', 'ISO_A2', 'ISO_A3', 'ISO_A3_EH',\n",
        "#         'ISO_N3', 'UN_A3', 'WB_A2', 'WB_RULES',\n",
        "#         'WB_REGION', 'REGION_UN', 'REGION_WB', 'FORMAL_EN']\n",
        "#   cols.extend(gdf.columns[26:-6])\n",
        "#   gdf.drop(columns=cols, inplace=True)\n",
        "\n",
        "#   # Return gdf\n",
        "#   return gdf"
      ],
      "metadata": {
        "id": "JRJK3ZV5lzmC"
      },
      "execution_count": 89,
      "outputs": []
    },
    {
      "cell_type": "code",
      "source": [
        "# gdf = wrangleN('/content/WB_countries_Admin0_10m.shp')"
      ],
      "metadata": {
        "id": "TC9Gn0_Ql5VN"
      },
      "execution_count": 90,
      "outputs": []
    },
    {
      "cell_type": "code",
      "source": [
        "# # Merge the DataFrames based on the \"WB_A3\" column\n",
        "# merged_df = pd.merge(Tot, gdf[['WB_A3', 'CONTINENT', 'geometry']], on='WB_A3', how='left')\n",
        "\n",
        "# merged_gdf = gpd.GeoDataFrame(merged_df, geometry='geometry')\n",
        "# #merged_gdf.info()"
      ],
      "metadata": {
        "id": "MMFKckP2l_ye"
      },
      "execution_count": 91,
      "outputs": []
    },
    {
      "cell_type": "code",
      "source": [
        "# # Create a new DataFrame for rows with \"GLOBAL TOTAL\" in the 'Country' column\n",
        "# global_total_df = merged_gdf[merged_gdf['Country'] == 'GLOBAL TOTAL'].copy()\n",
        "\n",
        "# # Remove rows with \"GLOBAL TOTAL\" from the original DataFrame\n",
        "# merged_gdf = merged_gdf[merged_gdf['Country'] != 'GLOBAL TOTAL']"
      ],
      "metadata": {
        "id": "6f7mXFsEmEga"
      },
      "execution_count": 92,
      "outputs": []
    },
    {
      "cell_type": "code",
      "source": [
        "# # Create a new DataFrame for rows with \"EU27\" in the 'Country' column\n",
        "# EU27_df = merged_gdf[merged_gdf['Country'] == 'EU27'].copy()\n",
        "\n",
        "# # Remove rows with \"GLOBAL TOTAL\" from the original DataFrame\n",
        "# merged_gdf = merged_gdf[merged_gdf['Country'] != 'EU27']"
      ],
      "metadata": {
        "id": "yUB1Ij0DmI9t"
      },
      "execution_count": 93,
      "outputs": []
    },
    {
      "cell_type": "code",
      "source": [
        "# # Create a new DataFrame for rows with \"International Aviation\" in the 'Country' column\n",
        "# IntAvi_df = merged_gdf[merged_gdf['Country'] == 'International Aviation'].copy()\n",
        "\n",
        "# # Remove rows with \"GLOBAL TOTAL\" from the original DataFrame\n",
        "# merged_gdf = merged_gdf[merged_gdf['Country'] != 'International Aviation']"
      ],
      "metadata": {
        "id": "IA-UFYuRmMq5"
      },
      "execution_count": 94,
      "outputs": []
    },
    {
      "cell_type": "code",
      "source": [
        "# # Create a new DataFrame for rows with \"International Shipping\" in the 'Country' column\n",
        "# IntShip_df = merged_gdf[merged_gdf['Country'] == 'International Shipping'].copy()\n",
        "\n",
        "# # Remove rows with \"GLOBAL TOTAL\" from the original DataFrame\n",
        "# merged_gdf = merged_gdf[merged_gdf['Country'] != 'International Shipping']"
      ],
      "metadata": {
        "id": "-__jI6jEmWU6"
      },
      "execution_count": 95,
      "outputs": []
    },
    {
      "cell_type": "code",
      "source": [
        "# # Mapping of countries to continents\n",
        "# country_to_continent = {\n",
        "#     'Curaçao': 'North America',\n",
        "#     'Democratic Republic of the Congo': 'Africa',\n",
        "#     'Western Sahara': 'Africa',\n",
        "#     'Guadeloupe': 'North America',\n",
        "#     'French Guiana': 'South America',\n",
        "#     'Martinique': 'North America',\n",
        "#     'Réunion': 'Africa',\n",
        "#     'Romania': 'Europe',\n",
        "#     'Serbia and Montenegro': 'Europe',\n",
        "#     'Timor-Leste': 'Asia',\n",
        "#     'Taiwan': 'Asia'\n",
        "# }\n",
        "\n",
        "# # Fill missing continent values based on the mapping\n",
        "# merged_gdf['CONTINENT'] = merged_gdf['CONTINENT'].fillna(merged_gdf['Country'].map(country_to_continent))"
      ],
      "metadata": {
        "id": "pJfx2tP9mavB"
      },
      "execution_count": 96,
      "outputs": []
    },
    {
      "cell_type": "code",
      "source": [
        "#merged_gdf[merged_gdf['CONTINENT'].isnull()]"
      ],
      "metadata": {
        "id": "Gvfagz0qmezh"
      },
      "execution_count": 97,
      "outputs": []
    },
    {
      "cell_type": "code",
      "source": [
        "# # Set the style of seaborn\n",
        "# sns.set(style=\"darkgrid\")\n",
        "\n",
        "# # Select the relevant columns for plotting\n",
        "# columns_to_plot = ['1970', '1971', '1972', '1973', '1974', '1975', '1976', '1977', '1978', '1979',\n",
        "#                    '1980', '1981', '1982', '1983', '1984', '1985', '1986', '1987', '1988', '1989',\n",
        "#                    '1990', '1991', '1992', '1993', '1994', '1995', '1996', '1997', '1998', '1999',\n",
        "#                    '2000', '2001', '2002', '2003', '2004', '2005', '2006', '2007', '2008', '2009',\n",
        "#                    '2010', '2011', '2012', '2013', '2014', '2015', '2016', '2017', '2018', '2019',\n",
        "#                    '2020', '2021', '2022']\n",
        "\n",
        "# # Extract the data for each category\n",
        "# continents_data = merged_gdf.groupby('CONTINENT')[columns_to_plot].sum()\n",
        "# global_total_data = global_total_df[columns_to_plot].sum()\n",
        "# eu27_data = EU27_df[columns_to_plot].sum()\n",
        "# int_aviation_data = IntAvi_df[columns_to_plot].sum()\n",
        "# int_shipping_data = IntShip_df[columns_to_plot].sum()\n",
        "\n",
        "# # Plotting\n",
        "# fig, ax = plt.subplots(figsize=(15, 8))\n",
        "# continents_data.transpose().plot(ax=ax, linewidth=2)\n",
        "# global_total_data.plot(ax=ax, label='Global Total', linewidth=2, linestyle='dashed')\n",
        "# eu27_data.plot(ax=ax, label='EU27', linewidth=2, linestyle='dashed')\n",
        "# int_aviation_data.plot(ax=ax, label='International Aviation', linewidth=2, linestyle='dashed')\n",
        "# int_shipping_data.plot(ax=ax, label='International Shipping', linewidth=2, linestyle='dashed')\n",
        "\n",
        "# # Set labels and title\n",
        "# plt.xlabel('Year')\n",
        "# plt.ylabel('Total Emissions (Mt CO2/yr)')\n",
        "# plt.title('Total Emissions across Continents (Mt CO2/yr)')\n",
        "# plt.legend()\n",
        "# plt.tight_layout()\n",
        "# plt.savefig('EmTotal')\n",
        "\n",
        "# # Show the plot\n",
        "# plt.show()"
      ],
      "metadata": {
        "id": "v6t29Wczmix-"
      },
      "execution_count": 98,
      "outputs": []
    },
    {
      "cell_type": "markdown",
      "source": [
        "Total GHG Emissions per Country"
      ],
      "metadata": {
        "id": "wyAezwFfuOI5"
      }
    },
    {
      "cell_type": "code",
      "source": [
        "# def wrangle(filepath):\n",
        "#   # Read file\n",
        "#   df = pd.read_csv(filepath, sep=';')\n",
        "\n",
        "#   # Clean and update cols\n",
        "#   for col in df[df.columns[2:]].columns:\n",
        "#     df[col] = df[col].str.replace(',', '.').astype('float')\n",
        "\n",
        "#   # Drop rows with missing values in 'Country'\n",
        "#   df = df.dropna(subset=['Country'])\n",
        "\n",
        "#   # Rename cols\n",
        "#   df.rename(columns={'EDGAR Country Code':'WB_A3'}, inplace=True)\n",
        "\n",
        "#   return df"
      ],
      "metadata": {
        "id": "JeZV3j8SmmyR"
      },
      "execution_count": 99,
      "outputs": []
    },
    {
      "cell_type": "code",
      "source": [
        "# Tot = wrangle('/content/GHG_totals_by_country.csv')\n",
        "# Tot.head()"
      ],
      "metadata": {
        "id": "OMjtlb72uZXk"
      },
      "execution_count": 100,
      "outputs": []
    },
    {
      "cell_type": "code",
      "source": [
        "# def wrangleN(filepath):\n",
        "#   # Read shapefile\n",
        "#   gdf = gpd.read_file(filepath)\n",
        "\n",
        "#   # Drop cols\n",
        "#   cols = ['featurecla', 'LEVEL', 'FORMAL_FR',\n",
        "#         'POP_YEAR', 'LASTCENSUS', 'GDP_YEAR',\n",
        "#         'FIPS_10_', 'ISO_A2', 'ISO_A3', 'ISO_A3_EH',\n",
        "#         'ISO_N3', 'UN_A3', 'WB_A2', 'WB_RULES',\n",
        "#         'WB_REGION', 'REGION_UN', 'REGION_WB', 'FORMAL_EN']\n",
        "#   cols.extend(gdf.columns[26:-6])\n",
        "#   gdf.drop(columns=cols, inplace=True)\n",
        "\n",
        "#   # Return gdf\n",
        "#   return gdf"
      ],
      "metadata": {
        "id": "7dnNBk7uue6c"
      },
      "execution_count": 101,
      "outputs": []
    },
    {
      "cell_type": "code",
      "source": [
        "# gdf = wrangleN('/content/WB_countries_Admin0_10m.shp')"
      ],
      "metadata": {
        "id": "BgynAFpDvTKd"
      },
      "execution_count": 102,
      "outputs": []
    },
    {
      "cell_type": "code",
      "source": [
        "# # Merge the DataFrames based on the \"WB_A3\" column\n",
        "# merged_df = pd.merge(Tot, gdf[['WB_A3', 'CONTINENT', 'geometry']], on='WB_A3', how='left')\n",
        "\n",
        "# merged_gdf = gpd.GeoDataFrame(merged_df, geometry='geometry')\n",
        "# #merged_gdf.info()"
      ],
      "metadata": {
        "id": "n233lo0jvWYI"
      },
      "execution_count": 103,
      "outputs": []
    },
    {
      "cell_type": "code",
      "source": [
        "# # Create a new DataFrame for rows with \"GLOBAL TOTAL\" in the 'Country' column\n",
        "# global_total_df = merged_gdf[merged_gdf['Country'] == 'GLOBAL TOTAL'].copy()\n",
        "\n",
        "# # Remove rows with \"GLOBAL TOTAL\" from the original DataFrame\n",
        "# merged_gdf = merged_gdf[merged_gdf['Country'] != 'GLOBAL TOTAL']"
      ],
      "metadata": {
        "id": "d5pszm8Lvaz6"
      },
      "execution_count": 104,
      "outputs": []
    },
    {
      "cell_type": "code",
      "source": [
        "# # Create a new DataFrame for rows with \"EU27\" in the 'Country' column\n",
        "# EU27_df = merged_gdf[merged_gdf['Country'] == 'EU27'].copy()\n",
        "\n",
        "# # Remove rows with \"GLOBAL TOTAL\" from the original DataFrame\n",
        "# merged_gdf = merged_gdf[merged_gdf['Country'] != 'EU27']"
      ],
      "metadata": {
        "id": "6OMjsXJYvehU"
      },
      "execution_count": 105,
      "outputs": []
    },
    {
      "cell_type": "code",
      "source": [
        "# # Create a new DataFrame for rows with \"International Aviation\" in the 'Country' column\n",
        "# IntAvi_df = merged_gdf[merged_gdf['Country'] == 'International Aviation'].copy()\n",
        "\n",
        "# # Remove rows with \"GLOBAL TOTAL\" from the original DataFrame\n",
        "# merged_gdf = merged_gdf[merged_gdf['Country'] != 'International Aviation']"
      ],
      "metadata": {
        "id": "8A3l0BN2vioj"
      },
      "execution_count": 106,
      "outputs": []
    },
    {
      "cell_type": "code",
      "source": [
        "# # Create a new DataFrame for rows with \"International Shipping\" in the 'Country' column\n",
        "# IntShip_df = merged_gdf[merged_gdf['Country'] == 'International Shipping'].copy()\n",
        "\n",
        "# # Remove rows with \"GLOBAL TOTAL\" from the original DataFrame\n",
        "# merged_gdf = merged_gdf[merged_gdf['Country'] != 'International Shipping']"
      ],
      "metadata": {
        "id": "BLJnIQwEvmU1"
      },
      "execution_count": 107,
      "outputs": []
    },
    {
      "cell_type": "code",
      "source": [
        "# # Mapping of countries to continents\n",
        "# country_to_continent = {\n",
        "#     'Curaçao': 'North America',\n",
        "#     'Democratic Republic of the Congo': 'Africa',\n",
        "#     'Western Sahara': 'Africa',\n",
        "#     'Guadeloupe': 'North America',\n",
        "#     'French Guiana': 'South America',\n",
        "#     'Martinique': 'North America',\n",
        "#     'Réunion': 'Africa',\n",
        "#     'Romania': 'Europe',\n",
        "#     'Serbia and Montenegro': 'Europe',\n",
        "#     'Timor-Leste': 'Asia',\n",
        "#     'Taiwan': 'Asia'\n",
        "# }\n",
        "\n",
        "# # Fill missing continent values based on the mapping\n",
        "# merged_gdf['CONTINENT'] = merged_gdf['CONTINENT'].fillna(merged_gdf['Country'].map(country_to_continent))"
      ],
      "metadata": {
        "id": "gOwcgIh3v1h9"
      },
      "execution_count": 108,
      "outputs": []
    },
    {
      "cell_type": "code",
      "source": [
        "#merged_gdf[merged_gdf['CONTINENT'].isnull()]"
      ],
      "metadata": {
        "id": "t04ne918v7ps"
      },
      "execution_count": 109,
      "outputs": []
    },
    {
      "cell_type": "code",
      "source": [
        "# # Set the style of seaborn\n",
        "# sns.set(style=\"darkgrid\")\n",
        "\n",
        "# # Select the relevant columns for plotting\n",
        "# columns_to_plot = ['1970', '1971', '1972', '1973', '1974', '1975', '1976', '1977', '1978', '1979',\n",
        "#                    '1980', '1981', '1982', '1983', '1984', '1985', '1986', '1987', '1988', '1989',\n",
        "#                    '1990', '1991', '1992', '1993', '1994', '1995', '1996', '1997', '1998', '1999',\n",
        "#                    '2000', '2001', '2002', '2003', '2004', '2005', '2006', '2007', '2008', '2009',\n",
        "#                    '2010', '2011', '2012', '2013', '2014', '2015', '2016', '2017', '2018', '2019',\n",
        "#                    '2020', '2021', '2022']\n",
        "\n",
        "# # Extract the data for each category\n",
        "# continents_data = merged_gdf.groupby('CONTINENT')[columns_to_plot].sum()\n",
        "# global_total_data = global_total_df[columns_to_plot].sum()\n",
        "# eu27_data = EU27_df[columns_to_plot].sum()\n",
        "# int_aviation_data = IntAvi_df[columns_to_plot].sum()\n",
        "# int_shipping_data = IntShip_df[columns_to_plot].sum()\n",
        "\n",
        "# # Plotting\n",
        "# fig, ax = plt.subplots(figsize=(15, 8))\n",
        "# continents_data.transpose().plot(ax=ax, linewidth=2)\n",
        "# global_total_data.plot(ax=ax, label='Global Total', linewidth=2, linestyle='dashed')\n",
        "# eu27_data.plot(ax=ax, label='EU27', linewidth=2, linestyle='dashed')\n",
        "# int_aviation_data.plot(ax=ax, label='International Aviation', linewidth=2, linestyle='dashed')\n",
        "# int_shipping_data.plot(ax=ax, label='International Shipping', linewidth=2, linestyle='dashed')\n",
        "\n",
        "# # Set labels and title\n",
        "# plt.xlabel('Year')\n",
        "# plt.ylabel('Total Emissions (Mt CO2eq/yr)')\n",
        "# plt.title('Total GHG Emissions across Continents (Mt CO2eq/yr)')\n",
        "# plt.legend()\n",
        "# plt.tight_layout()\n",
        "# plt.savefig('GHGEmTotal')\n",
        "\n",
        "# # Show the plot\n",
        "# plt.show()"
      ],
      "metadata": {
        "id": "pq-Z0fhNv_KB"
      },
      "execution_count": 110,
      "outputs": []
    },
    {
      "cell_type": "markdown",
      "source": [
        "GHG Emissions per Sector"
      ],
      "metadata": {
        "id": "bWcIx5ry8UXi"
      }
    },
    {
      "cell_type": "code",
      "source": [
        "# def wrangleSEC(filepath):\n",
        "#   # Read file\n",
        "#   df = pd.read_csv(filepath, sep=';')\n",
        "\n",
        "#   # Clean and update cols\n",
        "#   for col in df[df.columns[4:]].columns:\n",
        "#     df[col] = df[col].str.replace(',', '.').astype('float')\n",
        "\n",
        "#   # Drop rows with missing values in 'Country'\n",
        "#   df = df.dropna(subset=['Country'])\n",
        "\n",
        "#   # Drop cols with low cardinality\n",
        "#   df.drop(columns=['Substance'], inplace=True)\n",
        "\n",
        "#   # Rename cols\n",
        "#   df.rename(columns={'EDGAR Country Code':'WB_A3'}, inplace=True)\n",
        "\n",
        "#   return df"
      ],
      "metadata": {
        "id": "qsnoHPlcwDOC"
      },
      "execution_count": 111,
      "outputs": []
    },
    {
      "cell_type": "code",
      "source": [
        "# Secdf = wrangleSEC('/content/GHG_by_sector_and_country.csv')\n",
        "# #Secdf.info()"
      ],
      "metadata": {
        "id": "z0B4EHT58dKi"
      },
      "execution_count": 112,
      "outputs": []
    },
    {
      "cell_type": "code",
      "source": [
        "# def wrangleN(filepath):\n",
        "#   # Read shapefile\n",
        "#   gdf = gpd.read_file(filepath)\n",
        "\n",
        "#   # Drop cols\n",
        "#   cols = ['featurecla', 'LEVEL', 'FORMAL_FR',\n",
        "#         'POP_YEAR', 'LASTCENSUS', 'GDP_YEAR',\n",
        "#         'FIPS_10_', 'ISO_A2', 'ISO_A3', 'ISO_A3_EH',\n",
        "#         'ISO_N3', 'UN_A3', 'WB_A2', 'WB_RULES',\n",
        "#         'WB_REGION', 'REGION_UN', 'REGION_WB', 'FORMAL_EN']\n",
        "#   cols.extend(gdf.columns[26:-6])\n",
        "#   gdf.drop(columns=cols, inplace=True)\n",
        "\n",
        "#   # Return gdf\n",
        "#   return gdf"
      ],
      "metadata": {
        "id": "ZT9-2nb08jPA"
      },
      "execution_count": 113,
      "outputs": []
    },
    {
      "cell_type": "code",
      "source": [
        "# gdf = wrangleN('/content/WB_countries_Admin0_10m.shp')\n",
        "# #gdf.info()"
      ],
      "metadata": {
        "id": "A82B3rVFErsm"
      },
      "execution_count": 114,
      "outputs": []
    },
    {
      "cell_type": "code",
      "source": [
        "# # Merge the DataFrames based on the \"WB_A3\" column\n",
        "# merged_df = pd.merge(Secdf, gdf[['WB_A3', 'CONTINENT', 'geometry']], on='WB_A3', how='left')\n",
        "\n",
        "# merged_gdf = gpd.GeoDataFrame(merged_df, geometry='geometry')\n",
        "# merged_gdf.info()"
      ],
      "metadata": {
        "id": "fd5GPngrEvek"
      },
      "execution_count": 115,
      "outputs": []
    },
    {
      "cell_type": "code",
      "source": [
        "# # Create a new DataFrame for rows with \"GLOBAL TOTAL\" in the 'Country' column\n",
        "# global_total_df = merged_gdf[merged_gdf['Country'] == 'GLOBAL TOTAL'].copy()\n",
        "\n",
        "# # Remove rows with \"GLOBAL TOTAL\" from the original DataFrame\n",
        "# merged_gdf = merged_gdf[merged_gdf['Country'] != 'GLOBAL TOTAL']"
      ],
      "metadata": {
        "id": "czaMkVv_EzEt"
      },
      "execution_count": 116,
      "outputs": []
    },
    {
      "cell_type": "code",
      "source": [
        "# # Create a new DataFrame for rows with \"EU27\" in the 'Country' column\n",
        "# EU27_df = merged_gdf[merged_gdf['Country'] == 'EU27'].copy()\n",
        "\n",
        "# # Remove rows with \"EU27\" from the original DataFrame\n",
        "# merged_gdf = merged_gdf[merged_gdf['Country'] != 'EU27']"
      ],
      "metadata": {
        "id": "MvuiafC6E38E"
      },
      "execution_count": 117,
      "outputs": []
    },
    {
      "cell_type": "code",
      "source": [
        "# # Create a new DataFrame for rows with \"International Shipping\" in the 'Country' column\n",
        "# IntShip_df = merged_gdf[merged_gdf['Country'] == 'International Shipping'].copy()\n",
        "\n",
        "# # Remove rows with \"International Shipping\" from the original DataFrame\n",
        "# merged_gdf = merged_gdf[merged_gdf['Country'] != 'International Shipping']"
      ],
      "metadata": {
        "id": "0gFxqMN5E7TU"
      },
      "execution_count": 118,
      "outputs": []
    },
    {
      "cell_type": "code",
      "source": [
        "# # Create a new DataFrame for rows with \"International Aviation\" in the 'Country' column\n",
        "# IntAvi_df = merged_gdf[merged_gdf['Country'] == 'International Aviation'].copy()\n",
        "\n",
        "# # Remove rows with \"International Aviation\" from the original DataFrame\n",
        "# merged_gdf = merged_gdf[merged_gdf['Country'] != 'International Aviation']"
      ],
      "metadata": {
        "id": "FVu8v97sE_xB"
      },
      "execution_count": 119,
      "outputs": []
    },
    {
      "cell_type": "code",
      "source": [
        "# # Mapping of countries to continents\n",
        "# country_to_continent = {\n",
        "#     'Curaçao': 'North America',\n",
        "#     'Democratic Republic of the Congo': 'Africa',\n",
        "#     'Western Sahara': 'Africa',\n",
        "#     'Guadeloupe': 'North America',\n",
        "#     'French Guiana': 'South America',\n",
        "#     'Martinique': 'North America',\n",
        "#     'Réunion': 'Africa',\n",
        "#     'Romania': 'Europe',\n",
        "#     'Serbia and Montenegro': 'Europe',\n",
        "#     'Timor-Leste': 'Asia',\n",
        "#     'Taiwan': 'Asia'\n",
        "# }\n",
        "\n",
        "# # Fill missing continent values based on the mapping\n",
        "# merged_gdf['CONTINENT'] = merged_gdf['CONTINENT'].fillna(merged_gdf['Country'].map(country_to_continent))"
      ],
      "metadata": {
        "id": "K_IH0w_bFDhs"
      },
      "execution_count": 120,
      "outputs": []
    },
    {
      "cell_type": "code",
      "source": [
        "#merged_gdf[merged_gdf['CONTINENT'].isnull()]"
      ],
      "metadata": {
        "id": "2lhNg8dWFHpr"
      },
      "execution_count": 121,
      "outputs": []
    },
    {
      "cell_type": "code",
      "source": [
        "# # Columns from 1970 to 2022\n",
        "# year_columns = [str(year) for year in range(1970, 2023)]\n",
        "\n",
        "# # Function to fill missing values based on the specified logic\n",
        "# def fill_missing_values(group):\n",
        "#     group[year_columns] = group[year_columns].fillna(group.groupby('CONTINENT')[year_columns].transform('mean'))\n",
        "#     return group\n",
        "\n",
        "# # Group by 'Sector' and apply the fill_missing_values function\n",
        "# merged_gdf = merged_gdf.groupby('Sector', group_keys=True).apply(fill_missing_values)\n",
        "# #merged_gdf.info()"
      ],
      "metadata": {
        "id": "T78yMaklFLc4"
      },
      "execution_count": 122,
      "outputs": []
    },
    {
      "cell_type": "code",
      "source": [
        "# # Set the style of seaborn\n",
        "# sns.set(style=\"darkgrid\")\n",
        "\n",
        "# # Select the relevant columns for plotting\n",
        "# columns_to_plot = ['1970', '1971', '1972', '1973', '1974', '1975', '1976', '1977', '1978', '1979',\n",
        "#                    '1980', '1981', '1982', '1983', '1984', '1985', '1986', '1987', '1988', '1989',\n",
        "#                    '1990', '1991', '1992', '1993', '1994', '1995', '1996', '1997', '1998', '1999',\n",
        "#                    '2000', '2001', '2002', '2003', '2004', '2005', '2006', '2007', '2008', '2009',\n",
        "#                    '2010', '2011', '2012', '2013', '2014', '2015', '2016', '2017', '2018', '2019',\n",
        "#                    '2020', '2021', '2022']\n",
        "\n",
        "# # Convert 'CONTINENT' to categorical type\n",
        "# merged_gdf['CONTINENT'] = merged_gdf['CONTINENT'].astype('category')\n",
        "\n",
        "# # Extract the data for each category\n",
        "# agriculture_data = merged_gdf[merged_gdf['Sector'] == 'Agriculture'].groupby(['CONTINENT'])[columns_to_plot].sum().reset_index()\n",
        "# global_total_data = global_total_df[global_total_df['Sector']=='Agriculture'][columns_to_plot].sum()\n",
        "# eu27_data = EU27_df[EU27_df['Sector']=='Agriculture'][columns_to_plot].sum()\n",
        "# int_aviation_data = IntAvi_df[IntAvi_df['Sector']=='Agriculture'][columns_to_plot].sum()\n",
        "# int_shipping_data = IntShip_df[IntShip_df['Sector']=='Agriculture'][columns_to_plot].sum()\n",
        "\n",
        "# # Plotting\n",
        "# fig, ax = plt.subplots(figsize=(15, 8))\n",
        "\n",
        "# # Plot for Agriculture sector\n",
        "# ax.set_title('GHG Emissions by Agriculture Sector (Mt CO2eq/yr)', fontsize=16, pad=20)\n",
        "\n",
        "# # Plot for each continent\n",
        "# for idx, continent in enumerate(agriculture_data['CONTINENT']):\n",
        "#     data = agriculture_data[agriculture_data['CONTINENT'] == continent][columns_to_plot].T\n",
        "#     if idx == 0:\n",
        "#         data.columns = [continent for _ in data.columns]\n",
        "#     elif idx == 1:\n",
        "#         data.columns = [continent for _ in data.columns]\n",
        "#     elif idx == 2:\n",
        "#         data.columns = [continent for _ in data.columns]\n",
        "#     elif idx == 3:\n",
        "#         data.columns = [continent for _ in data.columns]\n",
        "#     elif idx == 4:\n",
        "#         data.columns = [continent for _ in data.columns]\n",
        "#     elif idx == 5:\n",
        "#         data.columns = [continent for _ in data.columns]\n",
        "#     elif idx == 6:\n",
        "#         data.columns = [continent for _ in data.columns]\n",
        "\n",
        "#     data.plot(ax=ax, linewidth=2)\n",
        "\n",
        "# global_total_data.plot(ax=ax, label='Global Total', linewidth=2, linestyle='dashed')\n",
        "# eu27_data.plot(ax=ax, label='EU27', linewidth=2, linestyle='dashed')\n",
        "# int_aviation_data.plot(ax=ax, label='International Aviation', linewidth=2, linestyle='dashed')\n",
        "# int_shipping_data.plot(ax=ax, label='International Shipping', linewidth=2, linestyle='dashed')\n",
        "\n",
        "# # Set labels and title\n",
        "# plt.xlabel('Year')\n",
        "# plt.ylabel('Total Emissions (Mt CO2eq/yr)')\n",
        "# plt.legend()\n",
        "# plt.tight_layout()\n",
        "# plt.savefig('GHGAgriculture')\n",
        "# # Show the plot\n",
        "# plt.show()"
      ],
      "metadata": {
        "id": "mHZUIdmeFPad"
      },
      "execution_count": 123,
      "outputs": []
    },
    {
      "cell_type": "code",
      "source": [
        "# # Set the style of seaborn\n",
        "# sns.set(style=\"darkgrid\")\n",
        "\n",
        "# # Select the relevant columns for plotting\n",
        "# columns_to_plot = ['1970', '1971', '1972', '1973', '1974', '1975', '1976', '1977', '1978', '1979',\n",
        "#                    '1980', '1981', '1982', '1983', '1984', '1985', '1986', '1987', '1988', '1989',\n",
        "#                    '1990', '1991', '1992', '1993', '1994', '1995', '1996', '1997', '1998', '1999',\n",
        "#                    '2000', '2001', '2002', '2003', '2004', '2005', '2006', '2007', '2008', '2009',\n",
        "#                    '2010', '2011', '2012', '2013', '2014', '2015', '2016', '2017', '2018', '2019',\n",
        "#                    '2020', '2021', '2022']\n",
        "\n",
        "# # Convert 'CONTINENT' to categorical type\n",
        "# merged_gdf['CONTINENT'] = merged_gdf['CONTINENT'].astype('category')\n",
        "\n",
        "# # Extract the data for each category\n",
        "# Buildings = merged_gdf[merged_gdf['Sector'] == 'Buildings'].groupby(['CONTINENT'])[columns_to_plot].sum().reset_index()\n",
        "# global_total_data = global_total_df[global_total_df['Sector']=='Buildings'][columns_to_plot].sum()\n",
        "# eu27_data = EU27_df[EU27_df['Sector']=='Buildings'][columns_to_plot].sum()\n",
        "# int_aviation_data = IntAvi_df[IntAvi_df['Sector']=='Buildings'][columns_to_plot].sum()\n",
        "# int_shipping_data = IntShip_df[IntShip_df['Sector']=='Buildings'][columns_to_plot].sum()\n",
        "\n",
        "# # Plotting\n",
        "# fig, ax = plt.subplots(figsize=(15, 8))\n",
        "\n",
        "# # Plot for Buildings sector\n",
        "# ax.set_title('GHG Emissions by Buildings Sector(Mt CO2eq/yr)', fontsize=16, pad=20)\n",
        "\n",
        "# # Plot for each continent\n",
        "# for idx, continent in enumerate(Buildings['CONTINENT']):\n",
        "#     data = Buildings[Buildings['CONTINENT'] == continent][columns_to_plot].T\n",
        "#     if idx == 0:\n",
        "#         data.columns = [continent for _ in data.columns]\n",
        "#     elif idx == 1:\n",
        "#         data.columns = [continent for _ in data.columns]\n",
        "#     elif idx == 2:\n",
        "#         data.columns = [continent for _ in data.columns]\n",
        "#     elif idx == 3:\n",
        "#         data.columns = [continent for _ in data.columns]\n",
        "#     elif idx == 4:\n",
        "#         data.columns = [continent for _ in data.columns]\n",
        "#     elif idx == 5:\n",
        "#         data.columns = [continent for _ in data.columns]\n",
        "#     elif idx == 6:\n",
        "#         data.columns = [continent for _ in data.columns]\n",
        "\n",
        "#     data.plot(ax=ax, linewidth=2)\n",
        "\n",
        "# global_total_data.plot(ax=ax, label='Global Total', linewidth=2, linestyle='dashed')\n",
        "# eu27_data.plot(ax=ax, label='EU27', linewidth=2, linestyle='dashed')\n",
        "# int_aviation_data.plot(ax=ax, label='International Aviation', linewidth=2, linestyle='dashed')\n",
        "# int_shipping_data.plot(ax=ax, label='International Shipping', linewidth=2, linestyle='dashed')\n",
        "\n",
        "# # Set labels and title\n",
        "# plt.xlabel('Year')\n",
        "# plt.ylabel('Total Emissions (Mt CO2eq/yr)')\n",
        "# plt.legend()\n",
        "# plt.tight_layout()\n",
        "# plt.savefig('GHGBuildings')\n",
        "# # Show the plot\n",
        "# plt.show()"
      ],
      "metadata": {
        "id": "AnqOOYoYFTNd"
      },
      "execution_count": 124,
      "outputs": []
    },
    {
      "cell_type": "code",
      "source": [
        "# # Set the style of seaborn\n",
        "# sns.set(style=\"darkgrid\")\n",
        "\n",
        "# # Select the relevant columns for plotting\n",
        "# columns_to_plot = ['1970', '1971', '1972', '1973', '1974', '1975', '1976', '1977', '1978', '1979',\n",
        "#                    '1980', '1981', '1982', '1983', '1984', '1985', '1986', '1987', '1988', '1989',\n",
        "#                    '1990', '1991', '1992', '1993', '1994', '1995', '1996', '1997', '1998', '1999',\n",
        "#                    '2000', '2001', '2002', '2003', '2004', '2005', '2006', '2007', '2008', '2009',\n",
        "#                    '2010', '2011', '2012', '2013', '2014', '2015', '2016', '2017', '2018', '2019',\n",
        "#                    '2020', '2021', '2022']\n",
        "\n",
        "# # Convert 'CONTINENT' to categorical type\n",
        "# merged_gdf['CONTINENT'] = merged_gdf['CONTINENT'].astype('category')\n",
        "\n",
        "# # Extract the data for each category\n",
        "# FuelExploitation = merged_gdf[merged_gdf['Sector'] == 'Fuel Exploitation'].groupby(['CONTINENT'])[columns_to_plot].sum().reset_index()\n",
        "# global_total_data = global_total_df[global_total_df['Sector']=='Fuel Exploitation'][columns_to_plot].sum()\n",
        "# eu27_data = EU27_df[EU27_df['Sector']=='Fuel Exploitation'][columns_to_plot].sum()\n",
        "# int_aviation_data = IntAvi_df[IntAvi_df['Sector']=='Fuel Exploitation'][columns_to_plot].sum()\n",
        "# int_shipping_data = IntShip_df[IntShip_df['Sector']=='Fuel Exploitation'][columns_to_plot].sum()\n",
        "\n",
        "# # Plotting\n",
        "# fig, ax = plt.subplots(figsize=(15, 8))\n",
        "\n",
        "# # Plot for Fuel Exploitation sector\n",
        "# ax.set_title('GHG Emissions by Fuel Exploitation Sector(Mt CO2eq/yr)', fontsize=16, pad=20)\n",
        "\n",
        "# # Plot for each continent\n",
        "# for idx, continent in enumerate(FuelExploitation['CONTINENT']):\n",
        "#     data = FuelExploitation[FuelExploitation['CONTINENT'] == continent][columns_to_plot].T\n",
        "#     if idx == 0:\n",
        "#         data.columns = [continent for _ in data.columns]\n",
        "#     elif idx == 1:\n",
        "#         data.columns = [continent for _ in data.columns]\n",
        "#     elif idx == 2:\n",
        "#         data.columns = [continent for _ in data.columns]\n",
        "#     elif idx == 3:\n",
        "#         data.columns = [continent for _ in data.columns]\n",
        "#     elif idx == 4:\n",
        "#         data.columns = [continent for _ in data.columns]\n",
        "#     elif idx == 5:\n",
        "#         data.columns = [continent for _ in data.columns]\n",
        "#     elif idx == 6:\n",
        "#         data.columns = [continent for _ in data.columns]\n",
        "\n",
        "#     data.plot(ax=ax, linewidth=2)\n",
        "\n",
        "# global_total_data.plot(ax=ax, label='Global Total', linewidth=2, linestyle='dashed')\n",
        "# eu27_data.plot(ax=ax, label='EU27', linewidth=2, linestyle='dashed')\n",
        "# int_aviation_data.plot(ax=ax, label='International Aviation', linewidth=2, linestyle='dashed')\n",
        "# int_shipping_data.plot(ax=ax, label='International Shipping', linewidth=2, linestyle='dashed')\n",
        "\n",
        "# # Set labels and title\n",
        "# plt.xlabel('Year')\n",
        "# plt.ylabel('Total Emissions (Mt CO2eq/yr)')\n",
        "# plt.legend()\n",
        "# plt.tight_layout()\n",
        "# plt.savefig('GHGFuelExploitation')\n",
        "# # Show the plot\n",
        "# plt.show()"
      ],
      "metadata": {
        "id": "u_ezD06gFXiL"
      },
      "execution_count": 125,
      "outputs": []
    },
    {
      "cell_type": "code",
      "source": [
        "# # Set the style of seaborn\n",
        "# sns.set(style=\"darkgrid\")\n",
        "\n",
        "# # Select the relevant columns for plotting\n",
        "# columns_to_plot = ['1970', '1971', '1972', '1973', '1974', '1975', '1976', '1977', '1978', '1979',\n",
        "#                    '1980', '1981', '1982', '1983', '1984', '1985', '1986', '1987', '1988', '1989',\n",
        "#                    '1990', '1991', '1992', '1993', '1994', '1995', '1996', '1997', '1998', '1999',\n",
        "#                    '2000', '2001', '2002', '2003', '2004', '2005', '2006', '2007', '2008', '2009',\n",
        "#                    '2010', '2011', '2012', '2013', '2014', '2015', '2016', '2017', '2018', '2019',\n",
        "#                    '2020', '2021', '2022']\n",
        "\n",
        "# # Convert 'CONTINENT' to categorical type\n",
        "# merged_gdf['CONTINENT'] = merged_gdf['CONTINENT'].astype('category')\n",
        "\n",
        "# # Extract the data for each category\n",
        "# IndustrialCombustion = merged_gdf[merged_gdf['Sector'] == 'Industrial Combustion'].groupby(['CONTINENT'])[columns_to_plot].sum().reset_index()\n",
        "# global_total_data = global_total_df[global_total_df['Sector']=='Industrial Combustion'][columns_to_plot].sum()\n",
        "# eu27_data = EU27_df[EU27_df['Sector']=='Industrial Combustion'][columns_to_plot].sum()\n",
        "# int_aviation_data = IntAvi_df[IntAvi_df['Sector']=='Industrial Combustion'][columns_to_plot].sum()\n",
        "# int_shipping_data = IntShip_df[IntShip_df['Sector']=='Industrial Combustion'][columns_to_plot].sum()\n",
        "\n",
        "# # Plotting\n",
        "# fig, ax = plt.subplots(figsize=(15, 8))\n",
        "\n",
        "# # Plot for Industrial Combustion sector\n",
        "# ax.set_title('GHG Emissions by Industrial Combustion Sector(Mt CO2eq/yr)', fontsize=16, pad=20)\n",
        "\n",
        "# # Plot for each continent\n",
        "# for idx, continent in enumerate(IndustrialCombustion['CONTINENT']):\n",
        "#     data = IndustrialCombustion[IndustrialCombustion['CONTINENT'] == continent][columns_to_plot].T\n",
        "#     if idx == 0:\n",
        "#         data.columns = [continent for _ in data.columns]\n",
        "#     elif idx == 1:\n",
        "#         data.columns = [continent for _ in data.columns]\n",
        "#     elif idx == 2:\n",
        "#         data.columns = [continent for _ in data.columns]\n",
        "#     elif idx == 3:\n",
        "#         data.columns = [continent for _ in data.columns]\n",
        "#     elif idx == 4:\n",
        "#         data.columns = [continent for _ in data.columns]\n",
        "#     elif idx == 5:\n",
        "#         data.columns = [continent for _ in data.columns]\n",
        "#     elif idx == 6:\n",
        "#         data.columns = [continent for _ in data.columns]\n",
        "\n",
        "#     data.plot(ax=ax, linewidth=2)\n",
        "\n",
        "# global_total_data.plot(ax=ax, label='Global Total', linewidth=2, linestyle='dashed')\n",
        "# eu27_data.plot(ax=ax, label='EU27', linewidth=2, linestyle='dashed')\n",
        "# int_aviation_data.plot(ax=ax, label='International Aviation', linewidth=2, linestyle='dashed')\n",
        "# int_shipping_data.plot(ax=ax, label='International Shipping', linewidth=2, linestyle='dashed')\n",
        "\n",
        "# # Set labels and title\n",
        "# plt.xlabel('Year')\n",
        "# plt.ylabel('Total Emissions (Mt CO2eq/yr)')\n",
        "# plt.legend()\n",
        "# plt.tight_layout()\n",
        "# plt.savefig('GHGIndustrial Combustion')\n",
        "# # Show the plot\n",
        "# plt.show()"
      ],
      "metadata": {
        "id": "eTOZ7mUtFbUk"
      },
      "execution_count": 126,
      "outputs": []
    },
    {
      "cell_type": "code",
      "source": [
        "# # Set the style of seaborn\n",
        "# sns.set(style=\"darkgrid\")\n",
        "\n",
        "# # Select the relevant columns for plotting\n",
        "# columns_to_plot = ['1970', '1971', '1972', '1973', '1974', '1975', '1976', '1977', '1978', '1979',\n",
        "#                    '1980', '1981', '1982', '1983', '1984', '1985', '1986', '1987', '1988', '1989',\n",
        "#                    '1990', '1991', '1992', '1993', '1994', '1995', '1996', '1997', '1998', '1999',\n",
        "#                    '2000', '2001', '2002', '2003', '2004', '2005', '2006', '2007', '2008', '2009',\n",
        "#                    '2010', '2011', '2012', '2013', '2014', '2015', '2016', '2017', '2018', '2019',\n",
        "#                    '2020', '2021', '2022']\n",
        "\n",
        "# # Convert 'CONTINENT' to categorical type\n",
        "# merged_gdf['CONTINENT'] = merged_gdf['CONTINENT'].astype('category')\n",
        "\n",
        "# # Extract the data for each category\n",
        "# PowerIndustry = merged_gdf[merged_gdf['Sector'] == 'Power Industry'].groupby(['CONTINENT'])[columns_to_plot].sum().reset_index()\n",
        "# global_total_data = global_total_df[global_total_df['Sector']=='Power Industry'][columns_to_plot].sum()\n",
        "# eu27_data = EU27_df[EU27_df['Sector']=='Power Industry'][columns_to_plot].sum()\n",
        "# int_aviation_data = IntAvi_df[IntAvi_df['Sector']=='Power Industry'][columns_to_plot].sum()\n",
        "# int_shipping_data = IntShip_df[IntShip_df['Sector']=='Power Industry'][columns_to_plot].sum()\n",
        "\n",
        "# # Plotting\n",
        "# fig, ax = plt.subplots(figsize=(15, 8))\n",
        "\n",
        "# # Plot for Power Industry sector\n",
        "# ax.set_title('GHG Emissions by Power Industry Sector(Mt CO2eq/yr)', fontsize=16, pad=20)\n",
        "\n",
        "# # Plot for each continent\n",
        "# for idx, continent in enumerate(PowerIndustry['CONTINENT']):\n",
        "#     data = PowerIndustry[PowerIndustry['CONTINENT'] == continent][columns_to_plot].T\n",
        "#     if idx == 0:\n",
        "#         data.columns = [continent for _ in data.columns]\n",
        "#     elif idx == 1:\n",
        "#         data.columns = [continent for _ in data.columns]\n",
        "#     elif idx == 2:\n",
        "#         data.columns = [continent for _ in data.columns]\n",
        "#     elif idx == 3:\n",
        "#         data.columns = [continent for _ in data.columns]\n",
        "#     elif idx == 4:\n",
        "#         data.columns = [continent for _ in data.columns]\n",
        "#     elif idx == 5:\n",
        "#         data.columns = [continent for _ in data.columns]\n",
        "#     elif idx == 6:\n",
        "#         data.columns = [continent for _ in data.columns]\n",
        "\n",
        "#     data.plot(ax=ax, linewidth=2)\n",
        "\n",
        "# global_total_data.plot(ax=ax, label='Global Total', linewidth=2, linestyle='dashed')\n",
        "# eu27_data.plot(ax=ax, label='EU27', linewidth=2, linestyle='dashed')\n",
        "# int_aviation_data.plot(ax=ax, label='International Aviation', linewidth=2, linestyle='dashed')\n",
        "# int_shipping_data.plot(ax=ax, label='International Shipping', linewidth=2, linestyle='dashed')\n",
        "\n",
        "# # Set labels and title\n",
        "# plt.xlabel('Year')\n",
        "# plt.ylabel('Total Emissions (Mt CO2eq/yr)')\n",
        "# plt.legend()\n",
        "# plt.tight_layout()\n",
        "# plt.savefig('GHGPower Industry')\n",
        "# # Show the plot\n",
        "# plt.show()"
      ],
      "metadata": {
        "id": "wXSPPTnwFgTH"
      },
      "execution_count": 127,
      "outputs": []
    },
    {
      "cell_type": "code",
      "source": [
        "# # Set the style of seaborn\n",
        "# sns.set(style=\"darkgrid\")\n",
        "\n",
        "# # Select the relevant columns for plotting\n",
        "# columns_to_plot = ['1970', '1971', '1972', '1973', '1974', '1975', '1976', '1977', '1978', '1979',\n",
        "#                    '1980', '1981', '1982', '1983', '1984', '1985', '1986', '1987', '1988', '1989',\n",
        "#                    '1990', '1991', '1992', '1993', '1994', '1995', '1996', '1997', '1998', '1999',\n",
        "#                    '2000', '2001', '2002', '2003', '2004', '2005', '2006', '2007', '2008', '2009',\n",
        "#                    '2010', '2011', '2012', '2013', '2014', '2015', '2016', '2017', '2018', '2019',\n",
        "#                    '2020', '2021', '2022']\n",
        "\n",
        "# # Convert 'CONTINENT' to categorical type\n",
        "# merged_gdf['CONTINENT'] = merged_gdf['CONTINENT'].astype('category')\n",
        "\n",
        "# # Extract the data for each category\n",
        "# Processes = merged_gdf[merged_gdf['Sector'] == 'Processes'].groupby(['CONTINENT'])[columns_to_plot].sum().reset_index()\n",
        "# global_total_data = global_total_df[global_total_df['Sector']=='Processes'][columns_to_plot].sum()\n",
        "# eu27_data = EU27_df[EU27_df['Sector']=='Processes'][columns_to_plot].sum()\n",
        "# int_aviation_data = IntAvi_df[IntAvi_df['Sector']=='Processes'][columns_to_plot].sum()\n",
        "# int_shipping_data = IntShip_df[IntShip_df['Sector']=='Processes'][columns_to_plot].sum()\n",
        "\n",
        "# # Plotting\n",
        "# fig, ax = plt.subplots(figsize=(15, 8))\n",
        "\n",
        "# # Plot for Processes sector\n",
        "# ax.set_title('GHG Emissions by Processes Sector(Mt CO2eq/yr)', fontsize=16, pad=20)\n",
        "\n",
        "# # Plot for each continent\n",
        "# for idx, continent in enumerate(Processes['CONTINENT']):\n",
        "#     data = Processes[Processes['CONTINENT'] == continent][columns_to_plot].T\n",
        "#     if idx == 0:\n",
        "#         data.columns = [continent for _ in data.columns]\n",
        "#     elif idx == 1:\n",
        "#         data.columns = [continent for _ in data.columns]\n",
        "#     elif idx == 2:\n",
        "#         data.columns = [continent for _ in data.columns]\n",
        "#     elif idx == 3:\n",
        "#         data.columns = [continent for _ in data.columns]\n",
        "#     elif idx == 4:\n",
        "#         data.columns = [continent for _ in data.columns]\n",
        "#     elif idx == 5:\n",
        "#         data.columns = [continent for _ in data.columns]\n",
        "#     elif idx == 6:\n",
        "#         data.columns = [continent for _ in data.columns]\n",
        "\n",
        "#     data.plot(ax=ax, linewidth=2)\n",
        "\n",
        "# global_total_data.plot(ax=ax, label='Global Total', linewidth=2, linestyle='dashed')\n",
        "# eu27_data.plot(ax=ax, label='EU27', linewidth=2, linestyle='dashed')\n",
        "# int_aviation_data.plot(ax=ax, label='International Aviation', linewidth=2, linestyle='dashed')\n",
        "# int_shipping_data.plot(ax=ax, label='International Shipping', linewidth=2, linestyle='dashed')\n",
        "\n",
        "# # Set labels and title\n",
        "# plt.xlabel('Year')\n",
        "# plt.ylabel('Total Emissions (Mt CO2eq/yr)')\n",
        "# plt.legend()\n",
        "# plt.tight_layout()\n",
        "# plt.savefig('GHGProcesses')\n",
        "# # Show the plot\n",
        "# plt.show()"
      ],
      "metadata": {
        "id": "gT7prrQDFk2P"
      },
      "execution_count": 128,
      "outputs": []
    },
    {
      "cell_type": "code",
      "source": [
        "# # Set the style of seaborn\n",
        "# sns.set(style=\"darkgrid\")\n",
        "\n",
        "# # Select the relevant columns for plotting\n",
        "# columns_to_plot = ['1970', '1971', '1972', '1973', '1974', '1975', '1976', '1977', '1978', '1979',\n",
        "#                    '1980', '1981', '1982', '1983', '1984', '1985', '1986', '1987', '1988', '1989',\n",
        "#                    '1990', '1991', '1992', '1993', '1994', '1995', '1996', '1997', '1998', '1999',\n",
        "#                    '2000', '2001', '2002', '2003', '2004', '2005', '2006', '2007', '2008', '2009',\n",
        "#                    '2010', '2011', '2012', '2013', '2014', '2015', '2016', '2017', '2018', '2019',\n",
        "#                    '2020', '2021', '2022']\n",
        "\n",
        "# # Convert 'CONTINENT' to categorical type\n",
        "# merged_gdf['CONTINENT'] = merged_gdf['CONTINENT'].astype('category')\n",
        "\n",
        "# # Extract the data for each category\n",
        "# Transport = merged_gdf[merged_gdf['Sector'] == 'Transport'].groupby(['CONTINENT'])[columns_to_plot].sum().reset_index()\n",
        "# global_total_data = global_total_df[global_total_df['Sector']=='Transport'][columns_to_plot].sum()\n",
        "# eu27_data = EU27_df[EU27_df['Sector']=='Transport'][columns_to_plot].sum()\n",
        "# int_aviation_data = IntAvi_df[IntAvi_df['Sector']=='Transport'][columns_to_plot].sum()\n",
        "# int_shipping_data = IntShip_df[IntShip_df['Sector']=='Transport'][columns_to_plot].sum()\n",
        "\n",
        "# # Plotting\n",
        "# fig, ax = plt.subplots(figsize=(15, 8))\n",
        "\n",
        "# # Plot for Transport sector\n",
        "# ax.set_title('GHG Emissions by Transport Sector(Mt CO2eq/yr)', fontsize=16, pad=20)\n",
        "\n",
        "# # Plot for each continent\n",
        "# for idx, continent in enumerate(Transport['CONTINENT']):\n",
        "#     data = Transport[Transport['CONTINENT'] == continent][columns_to_plot].T\n",
        "#     if idx == 0:\n",
        "#         data.columns = [continent for _ in data.columns]\n",
        "#     elif idx == 1:\n",
        "#         data.columns = [continent for _ in data.columns]\n",
        "#     elif idx == 2:\n",
        "#         data.columns = [continent for _ in data.columns]\n",
        "#     elif idx == 3:\n",
        "#         data.columns = [continent for _ in data.columns]\n",
        "#     elif idx == 4:\n",
        "#         data.columns = [continent for _ in data.columns]\n",
        "#     elif idx == 5:\n",
        "#         data.columns = [continent for _ in data.columns]\n",
        "#     elif idx == 6:\n",
        "#         data.columns = [continent for _ in data.columns]\n",
        "\n",
        "#     data.plot(ax=ax, linewidth=2)\n",
        "\n",
        "# global_total_data.plot(ax=ax, label='Global Total', linewidth=2, linestyle='dashed')\n",
        "# eu27_data.plot(ax=ax, label='EU27', linewidth=2, linestyle='dashed')\n",
        "# int_aviation_data.plot(ax=ax, label='International Aviation', linewidth=2, linestyle='dashed')\n",
        "# int_shipping_data.plot(ax=ax, label='International Shipping', linewidth=2, linestyle='dashed')\n",
        "\n",
        "# # Set labels and title\n",
        "# plt.xlabel('Year')\n",
        "# plt.ylabel('Total Emissions (Mt CO2eq/yr)')\n",
        "# plt.legend()\n",
        "# plt.tight_layout()\n",
        "# plt.savefig('GHGTransport')\n",
        "# # Show the plot\n",
        "# plt.show()"
      ],
      "metadata": {
        "id": "L1RqGK8VFpHJ"
      },
      "execution_count": 129,
      "outputs": []
    },
    {
      "cell_type": "code",
      "source": [
        "# # Set the style of seaborn\n",
        "# sns.set(style=\"darkgrid\")\n",
        "\n",
        "# # Select the relevant columns for plotting\n",
        "# columns_to_plot = ['1970', '1971', '1972', '1973', '1974', '1975', '1976', '1977', '1978', '1979',\n",
        "#                    '1980', '1981', '1982', '1983', '1984', '1985', '1986', '1987', '1988', '1989',\n",
        "#                    '1990', '1991', '1992', '1993', '1994', '1995', '1996', '1997', '1998', '1999',\n",
        "#                    '2000', '2001', '2002', '2003', '2004', '2005', '2006', '2007', '2008', '2009',\n",
        "#                    '2010', '2011', '2012', '2013', '2014', '2015', '2016', '2017', '2018', '2019',\n",
        "#                    '2020', '2021', '2022']\n",
        "\n",
        "# # Convert 'CONTINENT' to categorical type\n",
        "# merged_gdf['CONTINENT'] = merged_gdf['CONTINENT'].astype('category')\n",
        "\n",
        "# # Extract the data for each category\n",
        "# Waste = merged_gdf[merged_gdf['Sector'] == 'Waste'].groupby(['CONTINENT'])[columns_to_plot].sum().reset_index()\n",
        "# global_total_data = global_total_df[global_total_df['Sector']=='Waste'][columns_to_plot].sum()\n",
        "# eu27_data = EU27_df[EU27_df['Sector']=='Waste'][columns_to_plot].sum()\n",
        "# int_aviation_data = IntAvi_df[IntAvi_df['Sector']=='Waste'][columns_to_plot].sum()\n",
        "# int_shipping_data = IntShip_df[IntShip_df['Sector']=='Waste'][columns_to_plot].sum()\n",
        "\n",
        "# # Plotting\n",
        "# fig, ax = plt.subplots(figsize=(15, 8))\n",
        "\n",
        "# # Plot for Waste sector\n",
        "# ax.set_title('GHG Emissions by Waste Sector(Mt CO2eq/yr)', fontsize=16, pad=20)\n",
        "\n",
        "# # Plot for each continent\n",
        "# for idx, continent in enumerate(Waste['CONTINENT']):\n",
        "#     data = Waste[Waste['CONTINENT'] == continent][columns_to_plot].T\n",
        "#     if idx == 0:\n",
        "#         data.columns = [continent for _ in data.columns]\n",
        "#     elif idx == 1:\n",
        "#         data.columns = [continent for _ in data.columns]\n",
        "#     elif idx == 2:\n",
        "#         data.columns = [continent for _ in data.columns]\n",
        "#     elif idx == 3:\n",
        "#         data.columns = [continent for _ in data.columns]\n",
        "#     elif idx == 4:\n",
        "#         data.columns = [continent for _ in data.columns]\n",
        "#     elif idx == 5:\n",
        "#         data.columns = [continent for _ in data.columns]\n",
        "#     elif idx == 6:\n",
        "#         data.columns = [continent for _ in data.columns]\n",
        "\n",
        "#     data.plot(ax=ax, linewidth=2)\n",
        "\n",
        "# global_total_data.plot(ax=ax, label='Global Total', linewidth=2, linestyle='dashed')\n",
        "# eu27_data.plot(ax=ax, label='EU27', linewidth=2, linestyle='dashed')\n",
        "# int_aviation_data.plot(ax=ax, label='International Aviation', linewidth=2, linestyle='dashed')\n",
        "# int_shipping_data.plot(ax=ax, label='International Shipping', linewidth=2, linestyle='dashed')\n",
        "\n",
        "# # Set labels and title\n",
        "# plt.xlabel('Year')\n",
        "# plt.ylabel('Total Emissions (Mt CO2eq/yr)')\n",
        "# plt.legend()\n",
        "# plt.tight_layout()\n",
        "# plt.savefig('GHGWaste')\n",
        "# # Show the plot\n",
        "# plt.show()"
      ],
      "metadata": {
        "id": "g2WVdS-JFt-J"
      },
      "execution_count": 130,
      "outputs": []
    },
    {
      "cell_type": "code",
      "source": [],
      "metadata": {
        "id": "RDy88cRfFyDR"
      },
      "execution_count": null,
      "outputs": []
    }
  ]
}